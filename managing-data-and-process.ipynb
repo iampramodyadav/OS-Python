{
 "cells": [
  {
   "cell_type": "markdown",
   "id": "f19775b5-a4d5-4b3a-aeea-0210bc66c82a",
   "metadata": {},
   "source": [
    "# Data Stream"
   ]
  },
  {
   "cell_type": "markdown",
   "id": "bfa9868f-6dc1-4640-a74b-34ee75f60402",
   "metadata": {},
   "source": [
    "## Reading data interactively"
   ]
  },
  {
   "cell_type": "code",
   "execution_count": null,
   "id": "6da6a55c-4e74-4d4e-ae62-251f92469417",
   "metadata": {},
   "outputs": [],
   "source": []
  },
  {
   "cell_type": "markdown",
   "id": "d135c6a6-d730-48d7-adf5-e98da6c7abed",
   "metadata": {},
   "source": [
    "```python\n",
    "#!/usr/bin/env python3\n",
    "\n",
    "name = input(\"Please enter your name: \")\n",
    "print(\"Hello, \" + name)\n",
    "```"
   ]
  },
  {
   "cell_type": "code",
   "execution_count": 10,
   "id": "53d107f9-73b1-499e-b201-42f8ebec13f3",
   "metadata": {},
   "outputs": [
    {
     "name": "stdin",
     "output_type": "stream",
     "text": [
      "Please enter your name:  pky\n"
     ]
    },
    {
     "name": "stdout",
     "output_type": "stream",
     "text": [
      "Hello, pky\n"
     ]
    }
   ],
   "source": [
    "%run hello.py"
   ]
  },
  {
   "cell_type": "code",
   "execution_count": null,
   "id": "56e874c6-2364-4625-9f86-03b8d6bd89cf",
   "metadata": {},
   "outputs": [],
   "source": []
  },
  {
   "cell_type": "code",
   "execution_count": 11,
   "id": "60817184-29c9-4557-97d3-1c106709d5cc",
   "metadata": {},
   "outputs": [
    {
     "name": "stdout",
     "output_type": "stream",
     "text": [
      "Welcome to this time converter\n"
     ]
    },
    {
     "name": "stdin",
     "output_type": "stream",
     "text": [
      "Enter the number of hours:  56\n",
      "Enter the number of minutes:  23\n",
      "Enter the number of seconds:  2\n"
     ]
    },
    {
     "name": "stdout",
     "output_type": "stream",
     "text": [
      "That's 202982 seconds\n",
      "\n"
     ]
    },
    {
     "name": "stdin",
     "output_type": "stream",
     "text": [
      "Do you want to do another conversion? [y to continue]  y\n",
      "Enter the number of hours:  5\n",
      "Enter the number of minutes:  5\n",
      "Enter the number of seconds:  5\n"
     ]
    },
    {
     "name": "stdout",
     "output_type": "stream",
     "text": [
      "That's 18305 seconds\n",
      "\n"
     ]
    },
    {
     "name": "stdin",
     "output_type": "stream",
     "text": [
      "Do you want to do another conversion? [y to continue]  \n"
     ]
    },
    {
     "name": "stdout",
     "output_type": "stream",
     "text": [
      "Goodbye!\n"
     ]
    }
   ],
   "source": [
    "def to_seconds(hours, minutes, seconds):\n",
    "    return hours*3600+minutes*60+seconds\n",
    "\n",
    "print(\"Welcome to this time converter\")\n",
    "\n",
    "cont = \"y\"\n",
    "while(cont.lower() == \"y\"):\n",
    "    hours = int(input(\"Enter the number of hours: \"))\n",
    "    minutes = int(input(\"Enter the number of minutes: \"))\n",
    "    seconds = int(input(\"Enter the number of seconds: \"))\n",
    "\n",
    "    print(\"That's {} seconds\".format(to_seconds(hours, minutes, seconds)))\n",
    "    print()\n",
    "    cont = input(\"Do you want to do another conversion? [y to continue] \")\n",
    "    \n",
    "print(\"Goodbye!\")"
   ]
  },
  {
   "cell_type": "markdown",
   "id": "a7e64597-880c-4987-9885-b62c9b74db91",
   "metadata": {},
   "source": [
    "## Standard streams"
   ]
  },
  {
   "cell_type": "code",
   "execution_count": 17,
   "id": "812142e9-f4cd-4333-837a-3ba14ecefd42",
   "metadata": {},
   "outputs": [
    {
     "name": "stdin",
     "output_type": "stream",
     "text": [
      "This will come from STDIN:  Rock on\n"
     ]
    },
    {
     "name": "stdout",
     "output_type": "stream",
     "text": [
      "Now we write it to STDOUT: Rock on\n"
     ]
    },
    {
     "ename": "TypeError",
     "evalue": "can only concatenate str (not \"int\") to str",
     "output_type": "error",
     "traceback": [
      "\u001b[1;31m---------------------------------------------------------------------------\u001b[0m",
      "\u001b[1;31mTypeError\u001b[0m                                 Traceback (most recent call last)",
      "Cell \u001b[1;32mIn[17], line 5\u001b[0m\n\u001b[0;32m      3\u001b[0m data \u001b[38;5;241m=\u001b[39m \u001b[38;5;28minput\u001b[39m(\u001b[38;5;124m\"\u001b[39m\u001b[38;5;124mThis will come from STDIN: \u001b[39m\u001b[38;5;124m\"\u001b[39m)\n\u001b[0;32m      4\u001b[0m \u001b[38;5;28mprint\u001b[39m(\u001b[38;5;124m\"\u001b[39m\u001b[38;5;124mNow we write it to STDOUT: \u001b[39m\u001b[38;5;124m\"\u001b[39m \u001b[38;5;241m+\u001b[39m data)\n\u001b[1;32m----> 5\u001b[0m \u001b[38;5;28mprint\u001b[39m(\u001b[38;5;124;43m\"\u001b[39;49m\u001b[38;5;124;43mNow we generate an error to STDERR: \u001b[39;49m\u001b[38;5;124;43m\"\u001b[39;49m\u001b[43m \u001b[49m\u001b[38;5;241;43m+\u001b[39;49m\u001b[43m \u001b[49m\u001b[43mdata\u001b[49m\u001b[43m \u001b[49m\u001b[38;5;241;43m+\u001b[39;49m\u001b[43m \u001b[49m\u001b[38;5;241;43m1\u001b[39;49m)\n",
      "\u001b[1;31mTypeError\u001b[0m: can only concatenate str (not \"int\") to str"
     ]
    }
   ],
   "source": [
    "#!/usr/bin/env python3\n",
    "\n",
    "data = input(\"This will come from STDIN: \") \n",
    "print(\"Now we write it to STDOUT: \" + data)\n",
    "print(\"Now we generate an error to STDERR: \" + data + 1)"
   ]
  },
  {
   "cell_type": "markdown",
   "id": "c4b40e8a-53b3-4d86-a1b8-99043279854e",
   "metadata": {},
   "source": [
    "## Environment variables"
   ]
  },
  {
   "cell_type": "code",
   "execution_count": 26,
   "id": "edadcc86-d447-40bc-8949-acaee20a6b91",
   "metadata": {},
   "outputs": [
    {
     "name": "stdout",
     "output_type": "stream",
     "text": [
      "HOME: \n",
      "SHELL: \n",
      "FRUIT: \n"
     ]
    }
   ],
   "source": [
    "import os\n",
    "print(\"HOME: \" + os.environ.get(\"HOME\", \"\"))\n",
    "print(\"SHELL: \" + os.environ.get(\"SHELL\", \"\"))\n",
    "print(\"FRUIT: \" + os.environ.get(\"FRUIT\", \"\"))"
   ]
  },
  {
   "cell_type": "code",
   "execution_count": null,
   "id": "c76518b0-57c5-41bc-967b-e48fda15743c",
   "metadata": {},
   "outputs": [],
   "source": []
  },
  {
   "cell_type": "code",
   "execution_count": 28,
   "id": "6288de3f-4676-4b12-8429-fa1f23af93b9",
   "metadata": {},
   "outputs": [
    {
     "name": "stdout",
     "output_type": "stream",
     "text": [
      "['C:\\\\Users\\\\Asus\\\\AppData\\\\Local\\\\Programs\\\\Python\\\\Python311\\\\Lib\\\\site-packages\\\\ipykernel_launcher.py', '-f', 'C:\\\\Users\\\\Asus\\\\AppData\\\\Roaming\\\\jupyter\\\\runtime\\\\kernel-e6351139-defa-499a-9b3b-c4decf3afe8c.json']\n"
     ]
    }
   ],
   "source": [
    "# parameters.py\n",
    "\n",
    "#!/usr/bin/env python3\n",
    "import sys\n",
    "print(sys.argv)"
   ]
  },
  {
   "cell_type": "markdown",
   "id": "5e24e0e6-47a2-4bfd-85ea-58ea84e91f3f",
   "metadata": {},
   "source": [
    "```python\n",
    "$ python parameters.py\n",
    "['parameters.py']\n",
    "\n",
    "\n",
    "$ python parameters.py one two three\n",
    "['parameters.py', 'one', 'two', 'three']\n",
    "```"
   ]
  },
  {
   "cell_type": "code",
   "execution_count": null,
   "id": "6a78d241-fb64-44bb-a671-cf1253aea6b8",
   "metadata": {},
   "outputs": [],
   "source": []
  },
  {
   "cell_type": "code",
   "execution_count": 29,
   "id": "5e1577ef-ca17-47c6-bf9a-953f5c1aff89",
   "metadata": {},
   "outputs": [],
   "source": [
    "#!/usr/bin/env python3\n",
    "\n",
    "import os\n",
    "import sys\n",
    "\n",
    "filename = sys.argv[1]\n",
    "\n",
    "if not os.path.exists(filename):\n",
    "    with open(filename, \"w\") as f:\n",
    "        f.write(\"New file created\\n\")\n",
    "else:\n",
    "    print(\"Error, the file {} already exists!\".format(filename))\n",
    "    sys.exit(1)"
   ]
  },
  {
   "cell_type": "code",
   "execution_count": null,
   "id": "fa210214-cc49-452f-a55d-7ab80165d7e8",
   "metadata": {},
   "outputs": [],
   "source": []
  },
  {
   "cell_type": "markdown",
   "id": "fc4d75a3-4d0c-4a7a-804f-d04849f991d7",
   "metadata": {},
   "source": [
    "# Python Subprocesses"
   ]
  },
  {
   "cell_type": "code",
   "execution_count": 40,
   "id": "64977ead-2e1c-49dc-b61c-71ca762b1557",
   "metadata": {},
   "outputs": [
    {
     "data": {
      "text/plain": [
       "CompletedProcess(args=['powershell', 'Get-Date'], returncode=0)"
      ]
     },
     "execution_count": 40,
     "metadata": {},
     "output_type": "execute_result"
    }
   ],
   "source": [
    "import subprocess\n",
    "subprocess.run([\"powershell\", \"Get-Date\"])\n",
    "# subprocess.run([\"date\"])"
   ]
  },
  {
   "cell_type": "code",
   "execution_count": null,
   "id": "0b0b5102-ad3f-4628-bd11-bc3d1de5d8f2",
   "metadata": {},
   "outputs": [],
   "source": []
  },
  {
   "cell_type": "code",
   "execution_count": 41,
   "id": "66806767-9ab9-4672-9f8e-5ddd4abbe4a3",
   "metadata": {},
   "outputs": [],
   "source": [
    "# import subprocess\n",
    "# subprocess.run([\"date\"])\n",
    "# subprocess.run([\"powershell\", \"Get-Date\"])\n",
    "# subprocess.run([\"sleep\", \"2\"])\n",
    "\n",
    "\n",
    "import subprocess\n",
    "import platform\n",
    "\n",
    "# Detect the current operating system\n",
    "current_os = platform.system()\n",
    "\n",
    "if current_os == \"Windows\":\n",
    "    subprocess.run([\"timeout\", \"/T\", \"2\", \"/NOBREAK\"])\n",
    "else:\n",
    "    subprocess.run([\"sleep\", \"2\"])\n"
   ]
  },
  {
   "cell_type": "code",
   "execution_count": 42,
   "id": "11c899f8-dcda-4890-8a3e-887c26e553a0",
   "metadata": {},
   "outputs": [
    {
     "data": {
      "text/plain": [
       "CompletedProcess(args=['timeout', '/T', '2', '/NOBREAK'], returncode=1)"
      ]
     },
     "execution_count": 42,
     "metadata": {},
     "output_type": "execute_result"
    }
   ],
   "source": [
    "subprocess.run([\"timeout\", \"/T\", \"2\", \"/NOBREAK\"])"
   ]
  },
  {
   "cell_type": "code",
   "execution_count": 43,
   "id": "880b9e71-6134-4c90-92e0-a1432a23c443",
   "metadata": {},
   "outputs": [
    {
     "name": "stdout",
     "output_type": "stream",
     "text": [
      "1\n"
     ]
    }
   ],
   "source": [
    "import subprocess\n",
    "import platform\n",
    "\n",
    "# Detect the current operating system\n",
    "current_os = platform.system()\n",
    "\n",
    "# Run the date command\n",
    "if current_os == \"Windows\":\n",
    "    subprocess.run([\"powershell\", \"Get-Date\"])\n",
    "else:\n",
    "    subprocess.run([\"date\"])\n",
    "\n",
    "# Pause execution for 2 seconds\n",
    "if current_os == \"Windows\":\n",
    "    subprocess.run([\"timeout\", \"/T\", \"2\", \"/NOBREAK\"])\n",
    "else:\n",
    "    subprocess.run([\"sleep\", \"2\"])\n",
    "\n",
    "# Try to list a non-existent file\n",
    "if current_os == \"Windows\":\n",
    "    result = subprocess.run([\"powershell\", \"Get-ChildItem\", \"this_file_does_not_exist\"])\n",
    "else:\n",
    "    result = subprocess.run([\"ls\", \"this_file_does_not_exist\"])\n",
    "\n",
    "print(result.returncode)\n"
   ]
  },
  {
   "cell_type": "markdown",
   "id": "5b674f8e-f780-4b58-8548-e1e6103c73ae",
   "metadata": {},
   "source": [
    "## command"
   ]
  },
  {
   "cell_type": "code",
   "execution_count": 45,
   "id": "1a990599-9655-4567-9630-0cdfdfa3f181",
   "metadata": {},
   "outputs": [
    {
     "name": "stdout",
     "output_type": "stream",
     "text": [
      "0\n",
      "b'Server:  reliance.reliance\\r\\nAddress:  2405:201:d03e:c80b::c0a8:1d01\\r\\n\\r\\nName:    dns.google\\r\\nAddress:  8.8.8.8\\r\\n\\r\\n'\n",
      "['Server:', 'reliance.reliance', 'Address:', '2405:201:d03e:c80b::c0a8:1d01', 'Name:', 'dns.google', 'Address:', '8.8.8.8']\n"
     ]
    }
   ],
   "source": [
    "# result = subprocess.run([\"host\", \"8.8.8.8\"], capture_output=True)\n",
    "\n",
    "\n",
    "\n",
    "# result = subprocess.run([\"host\", \"8.8.8.8\"], capture_output=True)\n",
    "# print(result.returncode)\n",
    "\n",
    "\n",
    "\n",
    "# result = subprocess.run([\"host\", \"8.8.8.8\"], capture_output=True)\n",
    "# print(result.stdout)\n",
    "\n",
    "\n",
    "\n",
    "# result = subprocess.run([\"host\", \"8.8.8.8\"], capture_output=True)\n",
    "# print(result.stdout.decode().split())\n",
    "import subprocess\n",
    "import platform\n",
    "\n",
    "# Detect the current operating system\n",
    "current_os = platform.system()\n",
    "\n",
    "# Define the command based on the OS\n",
    "if current_os == \"Windows\":\n",
    "    command = [\"nslookup\", \"8.8.8.8\"]\n",
    "else:\n",
    "    command = [\"host\", \"8.8.8.8\"]\n",
    "\n",
    "# Run the command and capture the output\n",
    "result = subprocess.run(command, capture_output=True)\n",
    "\n",
    "# Print the return code\n",
    "print(result.returncode)\n",
    "\n",
    "# Print the raw stdout\n",
    "print(result.stdout)\n",
    "\n",
    "# Decode and split the stdout\n",
    "print(result.stdout.decode().split())\n"
   ]
  },
  {
   "cell_type": "code",
   "execution_count": null,
   "id": "468ce557-0cde-4c7f-8a44-b2997a870726",
   "metadata": {},
   "outputs": [],
   "source": []
  },
  {
   "cell_type": "code",
   "execution_count": 46,
   "id": "fcb63b10-80d3-4033-9447-f9e2ab5caeda",
   "metadata": {},
   "outputs": [
    {
     "name": "stdout",
     "output_type": "stream",
     "text": [
      "0\n",
      "\n",
      "Could Not Find C:\\Users\\Asus\\Desktop\\GitHUb\\OS-Python\\does_not_exist\n",
      "\n"
     ]
    }
   ],
   "source": [
    "import subprocess\n",
    "import os\n",
    "import platform\n",
    "\n",
    "# Function to remove a file using subprocess\n",
    "def remove_file(file_path):\n",
    "    current_os = platform.system()\n",
    "    if current_os == \"Windows\":\n",
    "        command = [\"del\", file_path]\n",
    "    else:\n",
    "        command = [\"rm\", file_path]\n",
    "    \n",
    "    result = subprocess.run(command, capture_output=True, shell=True) # Use shell=True to allow for internal commands\n",
    "    return result\n",
    "\n",
    "# File path to remove\n",
    "file_path = \"does_not_exist\"\n",
    "\n",
    "# Remove file and capture the result\n",
    "result = remove_file(file_path)\n",
    "\n",
    "# Print the return code\n",
    "print(result.returncode)\n",
    "\n",
    "# Print the stdout (should be empty for rm/del)\n",
    "print(result.stdout.decode())\n",
    "\n",
    "# Print the stderr (should contain the error message)\n",
    "print(result.stderr.decode())\n"
   ]
  },
  {
   "cell_type": "markdown",
   "id": "ffbde86f-5cd6-451e-9f79-2f6b28581443",
   "metadata": {},
   "source": [
    "## Advanced subprocess management"
   ]
  },
  {
   "cell_type": "code",
   "execution_count": 48,
   "id": "74443ae4-42f3-40e2-8332-378aeff0a6ef",
   "metadata": {},
   "outputs": [
    {
     "ename": "FileNotFoundError",
     "evalue": "[WinError 2] The system cannot find the file specified",
     "output_type": "error",
     "traceback": [
      "\u001b[1;31m---------------------------------------------------------------------------\u001b[0m",
      "\u001b[1;31mFileNotFoundError\u001b[0m                         Traceback (most recent call last)",
      "Cell \u001b[1;32mIn[48], line 7\u001b[0m\n\u001b[0;32m      4\u001b[0m my_env \u001b[38;5;241m=\u001b[39m os\u001b[38;5;241m.\u001b[39menviron\u001b[38;5;241m.\u001b[39mcopy()\n\u001b[0;32m      5\u001b[0m my_env[\u001b[38;5;124m\"\u001b[39m\u001b[38;5;124mPATH\u001b[39m\u001b[38;5;124m\"\u001b[39m] \u001b[38;5;241m=\u001b[39m os\u001b[38;5;241m.\u001b[39mpathsep\u001b[38;5;241m.\u001b[39mjoin([\u001b[38;5;124m\"\u001b[39m\u001b[38;5;124m/opt/myapp/\u001b[39m\u001b[38;5;124m\"\u001b[39m, my_env[\u001b[38;5;124m\"\u001b[39m\u001b[38;5;124mPATH\u001b[39m\u001b[38;5;124m\"\u001b[39m]])\n\u001b[1;32m----> 7\u001b[0m result \u001b[38;5;241m=\u001b[39m \u001b[43msubprocess\u001b[49m\u001b[38;5;241;43m.\u001b[39;49m\u001b[43mrun\u001b[49m\u001b[43m(\u001b[49m\u001b[43m[\u001b[49m\u001b[38;5;124;43m\"\u001b[39;49m\u001b[38;5;124;43mmyapp\u001b[39;49m\u001b[38;5;124;43m\"\u001b[39;49m\u001b[43m]\u001b[49m\u001b[43m,\u001b[49m\u001b[43m \u001b[49m\u001b[43menv\u001b[49m\u001b[38;5;241;43m=\u001b[39;49m\u001b[43mmy_env\u001b[49m\u001b[43m)\u001b[49m\n",
      "File \u001b[1;32m~\\AppData\\Local\\Programs\\Python\\Python311\\Lib\\subprocess.py:548\u001b[0m, in \u001b[0;36mrun\u001b[1;34m(input, capture_output, timeout, check, *popenargs, **kwargs)\u001b[0m\n\u001b[0;32m    545\u001b[0m     kwargs[\u001b[38;5;124m'\u001b[39m\u001b[38;5;124mstdout\u001b[39m\u001b[38;5;124m'\u001b[39m] \u001b[38;5;241m=\u001b[39m PIPE\n\u001b[0;32m    546\u001b[0m     kwargs[\u001b[38;5;124m'\u001b[39m\u001b[38;5;124mstderr\u001b[39m\u001b[38;5;124m'\u001b[39m] \u001b[38;5;241m=\u001b[39m PIPE\n\u001b[1;32m--> 548\u001b[0m \u001b[38;5;28;01mwith\u001b[39;00m \u001b[43mPopen\u001b[49m\u001b[43m(\u001b[49m\u001b[38;5;241;43m*\u001b[39;49m\u001b[43mpopenargs\u001b[49m\u001b[43m,\u001b[49m\u001b[43m \u001b[49m\u001b[38;5;241;43m*\u001b[39;49m\u001b[38;5;241;43m*\u001b[39;49m\u001b[43mkwargs\u001b[49m\u001b[43m)\u001b[49m \u001b[38;5;28;01mas\u001b[39;00m process:\n\u001b[0;32m    549\u001b[0m     \u001b[38;5;28;01mtry\u001b[39;00m:\n\u001b[0;32m    550\u001b[0m         stdout, stderr \u001b[38;5;241m=\u001b[39m process\u001b[38;5;241m.\u001b[39mcommunicate(\u001b[38;5;28minput\u001b[39m, timeout\u001b[38;5;241m=\u001b[39mtimeout)\n",
      "File \u001b[1;32m~\\AppData\\Local\\Programs\\Python\\Python311\\Lib\\subprocess.py:1024\u001b[0m, in \u001b[0;36mPopen.__init__\u001b[1;34m(self, args, bufsize, executable, stdin, stdout, stderr, preexec_fn, close_fds, shell, cwd, env, universal_newlines, startupinfo, creationflags, restore_signals, start_new_session, pass_fds, user, group, extra_groups, encoding, errors, text, umask, pipesize, process_group)\u001b[0m\n\u001b[0;32m   1020\u001b[0m         \u001b[38;5;28;01mif\u001b[39;00m \u001b[38;5;28mself\u001b[39m\u001b[38;5;241m.\u001b[39mtext_mode:\n\u001b[0;32m   1021\u001b[0m             \u001b[38;5;28mself\u001b[39m\u001b[38;5;241m.\u001b[39mstderr \u001b[38;5;241m=\u001b[39m io\u001b[38;5;241m.\u001b[39mTextIOWrapper(\u001b[38;5;28mself\u001b[39m\u001b[38;5;241m.\u001b[39mstderr,\n\u001b[0;32m   1022\u001b[0m                     encoding\u001b[38;5;241m=\u001b[39mencoding, errors\u001b[38;5;241m=\u001b[39merrors)\n\u001b[1;32m-> 1024\u001b[0m     \u001b[38;5;28;43mself\u001b[39;49m\u001b[38;5;241;43m.\u001b[39;49m\u001b[43m_execute_child\u001b[49m\u001b[43m(\u001b[49m\u001b[43margs\u001b[49m\u001b[43m,\u001b[49m\u001b[43m \u001b[49m\u001b[43mexecutable\u001b[49m\u001b[43m,\u001b[49m\u001b[43m \u001b[49m\u001b[43mpreexec_fn\u001b[49m\u001b[43m,\u001b[49m\u001b[43m \u001b[49m\u001b[43mclose_fds\u001b[49m\u001b[43m,\u001b[49m\n\u001b[0;32m   1025\u001b[0m \u001b[43m                        \u001b[49m\u001b[43mpass_fds\u001b[49m\u001b[43m,\u001b[49m\u001b[43m \u001b[49m\u001b[43mcwd\u001b[49m\u001b[43m,\u001b[49m\u001b[43m \u001b[49m\u001b[43menv\u001b[49m\u001b[43m,\u001b[49m\n\u001b[0;32m   1026\u001b[0m \u001b[43m                        \u001b[49m\u001b[43mstartupinfo\u001b[49m\u001b[43m,\u001b[49m\u001b[43m \u001b[49m\u001b[43mcreationflags\u001b[49m\u001b[43m,\u001b[49m\u001b[43m \u001b[49m\u001b[43mshell\u001b[49m\u001b[43m,\u001b[49m\n\u001b[0;32m   1027\u001b[0m \u001b[43m                        \u001b[49m\u001b[43mp2cread\u001b[49m\u001b[43m,\u001b[49m\u001b[43m \u001b[49m\u001b[43mp2cwrite\u001b[49m\u001b[43m,\u001b[49m\n\u001b[0;32m   1028\u001b[0m \u001b[43m                        \u001b[49m\u001b[43mc2pread\u001b[49m\u001b[43m,\u001b[49m\u001b[43m \u001b[49m\u001b[43mc2pwrite\u001b[49m\u001b[43m,\u001b[49m\n\u001b[0;32m   1029\u001b[0m \u001b[43m                        \u001b[49m\u001b[43merrread\u001b[49m\u001b[43m,\u001b[49m\u001b[43m \u001b[49m\u001b[43merrwrite\u001b[49m\u001b[43m,\u001b[49m\n\u001b[0;32m   1030\u001b[0m \u001b[43m                        \u001b[49m\u001b[43mrestore_signals\u001b[49m\u001b[43m,\u001b[49m\n\u001b[0;32m   1031\u001b[0m \u001b[43m                        \u001b[49m\u001b[43mgid\u001b[49m\u001b[43m,\u001b[49m\u001b[43m \u001b[49m\u001b[43mgids\u001b[49m\u001b[43m,\u001b[49m\u001b[43m \u001b[49m\u001b[43muid\u001b[49m\u001b[43m,\u001b[49m\u001b[43m \u001b[49m\u001b[43mumask\u001b[49m\u001b[43m,\u001b[49m\n\u001b[0;32m   1032\u001b[0m \u001b[43m                        \u001b[49m\u001b[43mstart_new_session\u001b[49m\u001b[43m,\u001b[49m\u001b[43m \u001b[49m\u001b[43mprocess_group\u001b[49m\u001b[43m)\u001b[49m\n\u001b[0;32m   1033\u001b[0m \u001b[38;5;28;01mexcept\u001b[39;00m:\n\u001b[0;32m   1034\u001b[0m     \u001b[38;5;66;03m# Cleanup if the child failed starting.\u001b[39;00m\n\u001b[0;32m   1035\u001b[0m     \u001b[38;5;28;01mfor\u001b[39;00m f \u001b[38;5;129;01min\u001b[39;00m \u001b[38;5;28mfilter\u001b[39m(\u001b[38;5;28;01mNone\u001b[39;00m, (\u001b[38;5;28mself\u001b[39m\u001b[38;5;241m.\u001b[39mstdin, \u001b[38;5;28mself\u001b[39m\u001b[38;5;241m.\u001b[39mstdout, \u001b[38;5;28mself\u001b[39m\u001b[38;5;241m.\u001b[39mstderr)):\n",
      "File \u001b[1;32m~\\AppData\\Local\\Programs\\Python\\Python311\\Lib\\subprocess.py:1493\u001b[0m, in \u001b[0;36mPopen._execute_child\u001b[1;34m(self, args, executable, preexec_fn, close_fds, pass_fds, cwd, env, startupinfo, creationflags, shell, p2cread, p2cwrite, c2pread, c2pwrite, errread, errwrite, unused_restore_signals, unused_gid, unused_gids, unused_uid, unused_umask, unused_start_new_session, unused_process_group)\u001b[0m\n\u001b[0;32m   1491\u001b[0m \u001b[38;5;66;03m# Start the process\u001b[39;00m\n\u001b[0;32m   1492\u001b[0m \u001b[38;5;28;01mtry\u001b[39;00m:\n\u001b[1;32m-> 1493\u001b[0m     hp, ht, pid, tid \u001b[38;5;241m=\u001b[39m _winapi\u001b[38;5;241m.\u001b[39mCreateProcess(executable, args,\n\u001b[0;32m   1494\u001b[0m                              \u001b[38;5;66;03m# no special security\u001b[39;00m\n\u001b[0;32m   1495\u001b[0m                              \u001b[38;5;28;01mNone\u001b[39;00m, \u001b[38;5;28;01mNone\u001b[39;00m,\n\u001b[0;32m   1496\u001b[0m                              \u001b[38;5;28mint\u001b[39m(\u001b[38;5;129;01mnot\u001b[39;00m close_fds),\n\u001b[0;32m   1497\u001b[0m                              creationflags,\n\u001b[0;32m   1498\u001b[0m                              env,\n\u001b[0;32m   1499\u001b[0m                              cwd,\n\u001b[0;32m   1500\u001b[0m                              startupinfo)\n\u001b[0;32m   1501\u001b[0m \u001b[38;5;28;01mfinally\u001b[39;00m:\n\u001b[0;32m   1502\u001b[0m     \u001b[38;5;66;03m# Child is launched. Close the parent's copy of those pipe\u001b[39;00m\n\u001b[0;32m   1503\u001b[0m     \u001b[38;5;66;03m# handles that only the child should have open.  You need\u001b[39;00m\n\u001b[1;32m   (...)\u001b[0m\n\u001b[0;32m   1506\u001b[0m     \u001b[38;5;66;03m# pipe will not close when the child process exits and the\u001b[39;00m\n\u001b[0;32m   1507\u001b[0m     \u001b[38;5;66;03m# ReadFile will hang.\u001b[39;00m\n\u001b[0;32m   1508\u001b[0m     \u001b[38;5;28mself\u001b[39m\u001b[38;5;241m.\u001b[39m_close_pipe_fds(p2cread, p2cwrite,\n\u001b[0;32m   1509\u001b[0m                          c2pread, c2pwrite,\n\u001b[0;32m   1510\u001b[0m                          errread, errwrite)\n",
      "\u001b[1;31mFileNotFoundError\u001b[0m: [WinError 2] The system cannot find the file specified"
     ]
    }
   ],
   "source": [
    "import os\n",
    "import subprocess\n",
    "\n",
    "my_env = os.environ.copy()\n",
    "my_env[\"PATH\"] = os.pathsep.join([\"/opt/myapp/\", my_env[\"PATH\"]])\n",
    "\n",
    "result = subprocess.run([\"myapp\"], env=my_env)"
   ]
  },
  {
   "cell_type": "code",
   "execution_count": null,
   "id": "a844e5a5-2a00-4dc3-a01a-2b29deac32ae",
   "metadata": {},
   "outputs": [],
   "source": []
  },
  {
   "cell_type": "markdown",
   "id": "1f739830-fba9-435f-b560-035e4bde336b",
   "metadata": {},
   "source": [
    "# Processing log file"
   ]
  },
  {
   "cell_type": "code",
   "execution_count": null,
   "id": "3bfa57da-4346-4a92-874b-64f1bfe58d20",
   "metadata": {},
   "outputs": [],
   "source": []
  },
  {
   "cell_type": "code",
   "execution_count": 55,
   "id": "58b1e3f4-89c3-4b40-9c90-c417f6daa6a5",
   "metadata": {},
   "outputs": [
    {
     "name": "stdout",
     "output_type": "stream",
     "text": [
      "Jul 6 14:01:23 computer.name CRON[29440]: USER (good_user)\n",
      "Jul 6 14:02:08 computer.name jam_tag=psim[29187]: (UUID:006)\n",
      "Jul 6 14:02:09 computer.name jam_tag=psim[ 29187]: (UUID:007)\n",
      "Jul 6 14:03:01 computer name CRON[29440]: USER (naughty user)\n",
      "Jul 6 14:03:40 computer. nameg from cacheclient [29807]: start syncin\"OxDEADBEEF\"\n",
      "Jul 6 14:04:01 computer name CRON [294401: USER (naughty_user )\n",
      "Jul 6 14:05:01 computer name CRON[29440]: USER (naughty_user)\n"
     ]
    }
   ],
   "source": [
    "#!/bin/env/python3\n",
    "\n",
    "import sys\n",
    "\n",
    "logfile = \"syslog.log\"#sys.argv[1]\n",
    "with open(logfile) as f:\n",
    "  for line in f:\n",
    "    print(line.strip())"
   ]
  },
  {
   "cell_type": "code",
   "execution_count": 56,
   "id": "b844eb2e-9784-42bf-a73f-5551db02718d",
   "metadata": {},
   "outputs": [
    {
     "data": {
      "text/plain": [
       "'syslog.log'"
      ]
     },
     "execution_count": 56,
     "metadata": {},
     "output_type": "execute_result"
    }
   ],
   "source": [
    "logfile"
   ]
  },
  {
   "cell_type": "code",
   "execution_count": 58,
   "id": "d8cd662e-ef98-4a74-8b5c-e730419536d8",
   "metadata": {},
   "outputs": [
    {
     "name": "stdout",
     "output_type": "stream",
     "text": [
      "Jul 6 14:01:23 computer.name CRON[29440]: USER (good_user)\n",
      "Jul 6 14:03:01 computer name CRON[29440]: USER (naughty user)\n",
      "Jul 6 14:04:01 computer name CRON [294401: USER (naughty_user )\n",
      "Jul 6 14:05:01 computer name CRON[29440]: USER (naughty_user)\n"
     ]
    }
   ],
   "source": [
    "#!/bin/env/python3\n",
    "\n",
    "import sys\n",
    "\n",
    "logfile =\"syslog.log\"#sys.argv[1]\n",
    "with open(logfile) as f:\n",
    "  for line in f:\n",
    "    if \"CRON\" not in line:\n",
    "      continue\n",
    "    print(line.strip())"
   ]
  },
  {
   "cell_type": "code",
   "execution_count": 59,
   "id": "63034e47-13dd-4a02-93f5-dec726b8c64b",
   "metadata": {},
   "outputs": [
    {
     "name": "stdout",
     "output_type": "stream",
     "text": [
      "naughty_user\n"
     ]
    }
   ],
   "source": [
    "import re\n",
    "pattern = r\"USER \\((\\w+)\\)$\"\n",
    "line = \"Jul 6 14:03:01 computer.name CRON[29440]: USER (naughty_user)\"\n",
    "result = re.search(pattern, line)\n",
    "print(result[1])"
   ]
  },
  {
   "cell_type": "code",
   "execution_count": null,
   "id": "7ec50806-011f-451b-b8d9-904d8f925f69",
   "metadata": {},
   "outputs": [],
   "source": []
  },
  {
   "cell_type": "code",
   "execution_count": 60,
   "id": "d9e82ecf-a4a5-4655-82bb-bb29b6ba739f",
   "metadata": {},
   "outputs": [
    {
     "name": "stdout",
     "output_type": "stream",
     "text": [
      "good_user\n",
      "naughty user\n",
      "naughty_user \n",
      "naughty_user\n"
     ]
    }
   ],
   "source": [
    "#!/bin/env/python3\n",
    "\n",
    "import re\n",
    "import sys\n",
    "\n",
    "logfile = \"syslog.log\"#sys.argv[1]\n",
    "with open(logfile) as f:\n",
    "  for line in f:\n",
    "    if \"CRON\" not in line:\n",
    "      continue\n",
    "    pattern = r\"USER \\((.+)\\)$\"\n",
    "    result = re.search(pattern, line)\n",
    "    print(result[1])"
   ]
  },
  {
   "cell_type": "code",
   "execution_count": null,
   "id": "b0ab91b7-6ad0-4401-af5f-47928ca05676",
   "metadata": {},
   "outputs": [],
   "source": []
  },
  {
   "cell_type": "code",
   "execution_count": null,
   "id": "68f97b4b-51f4-4790-9241-702bf0c51c13",
   "metadata": {},
   "outputs": [],
   "source": []
  },
  {
   "cell_type": "code",
   "execution_count": null,
   "id": "078b6c97-a39b-4c9a-835f-73dde924ed81",
   "metadata": {},
   "outputs": [],
   "source": []
  },
  {
   "cell_type": "code",
   "execution_count": null,
   "id": "d6d107c9-2039-4718-a80f-f6834dbfa1f1",
   "metadata": {},
   "outputs": [],
   "source": []
  },
  {
   "cell_type": "code",
   "execution_count": null,
   "id": "53ea0add-355e-47b4-a36a-43808a3310e3",
   "metadata": {},
   "outputs": [],
   "source": []
  },
  {
   "cell_type": "markdown",
   "id": "2590c2ec-cdb1-41ff-bfda-ff72fb10981b",
   "metadata": {},
   "source": [
    "Introduction\n",
    "\n",
    "Imagine one of your colleagues is struggling with a program that keeps throwing an error. Unfortunately, the program's source code is too complicated to easily find the error there. The good news is that the program outputs a log file you can read! Let's write a script to search the log file for the exact error, then output that error into a separate file so you can work out what's wrong.\n",
    "\n",
    "What you'll do\n",
    "\n",
    "Write a script to search the log file using regex to find for the exact error.\n",
    "\n",
    "Report the error into a separate file so you know what's wrong for further analysis.\n"
   ]
  },
  {
   "cell_type": "code",
   "execution_count": null,
   "id": "92cde8c0-3e7f-454f-9cde-098ff672c928",
   "metadata": {},
   "outputs": [],
   "source": [
    "#!/usr/bin/env python3\n",
    "\n",
    "\n",
    "import sys\n",
    "import os\n",
    "import re\n",
    "\n",
    "def error_search(log_file):\n",
    "  error = input(\"What is the error? \")\n",
    "  returned_errors = []\n",
    "  with open(log_file, mode='r',encoding='UTF-8') as file:\n",
    "    for log in  file.readlines():\n",
    "      error_patterns = [\"error\"]\n",
    "      for i in range(len(error.split(' '))):\n",
    "        error_patterns.append(r\"{}\".format(error.split(' ')[i].lower()))\n",
    "      if all(re.search(error_pattern, log.lower()) for error_pattern in error_patterns):\n",
    "        returned_errors.append(log)\n",
    "    file.close()\n",
    "  return returned_errors\n",
    "  \n",
    "def file_output(returned_errors):\n",
    "  with open(os.path.expanduser('~') + '/data/errors_found.log', 'w') as file:\n",
    "    for error in returned_errors:\n",
    "      file.write(error)\n",
    "    file.close()\n",
    "\n",
    "    \n",
    "if __name__ == \"__main__\":\n",
    "  log_file = sys.argv[1]\n",
    "  returned_errors = error_search(log_file)\n",
    "  file_output(returned_errors)\n",
    "  sys.exit(0)"
   ]
  }
 ],
 "metadata": {
  "kernelspec": {
   "display_name": "Python 3 (ipykernel)",
   "language": "python",
   "name": "python3"
  },
  "language_info": {
   "codemirror_mode": {
    "name": "ipython",
    "version": 3
   },
   "file_extension": ".py",
   "mimetype": "text/x-python",
   "name": "python",
   "nbconvert_exporter": "python",
   "pygments_lexer": "ipython3",
   "version": "3.11.1"
  }
 },
 "nbformat": 4,
 "nbformat_minor": 5
}
