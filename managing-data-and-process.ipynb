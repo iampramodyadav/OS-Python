{
 "cells": [
  {
   "cell_type": "markdown",
   "id": "f19775b5-a4d5-4b3a-aeea-0210bc66c82a",
   "metadata": {},
   "source": [
    "# Data Stream"
   ]
  },
  {
   "cell_type": "markdown",
   "id": "bfa9868f-6dc1-4640-a74b-34ee75f60402",
   "metadata": {},
   "source": [
    "## Reading data interactively"
   ]
  },
  {
   "cell_type": "code",
   "execution_count": null,
   "id": "6da6a55c-4e74-4d4e-ae62-251f92469417",
   "metadata": {},
   "outputs": [],
   "source": []
  },
  {
   "cell_type": "markdown",
   "id": "d135c6a6-d730-48d7-adf5-e98da6c7abed",
   "metadata": {},
   "source": [
    "```python\n",
    "#!/usr/bin/env python3\n",
    "\n",
    "name = input(\"Please enter your name: \")\n",
    "print(\"Hello, \" + name)\n",
    "```"
   ]
  },
  {
   "cell_type": "code",
   "execution_count": 10,
   "id": "53d107f9-73b1-499e-b201-42f8ebec13f3",
   "metadata": {},
   "outputs": [
    {
     "name": "stdin",
     "output_type": "stream",
     "text": [
      "Please enter your name:  pky\n"
     ]
    },
    {
     "name": "stdout",
     "output_type": "stream",
     "text": [
      "Hello, pky\n"
     ]
    }
   ],
   "source": [
    "%run hello.py"
   ]
  },
  {
   "cell_type": "code",
   "execution_count": null,
   "id": "56e874c6-2364-4625-9f86-03b8d6bd89cf",
   "metadata": {},
   "outputs": [],
   "source": []
  },
  {
   "cell_type": "code",
   "execution_count": 11,
   "id": "60817184-29c9-4557-97d3-1c106709d5cc",
   "metadata": {},
   "outputs": [
    {
     "name": "stdout",
     "output_type": "stream",
     "text": [
      "Welcome to this time converter\n"
     ]
    },
    {
     "name": "stdin",
     "output_type": "stream",
     "text": [
      "Enter the number of hours:  56\n",
      "Enter the number of minutes:  23\n",
      "Enter the number of seconds:  2\n"
     ]
    },
    {
     "name": "stdout",
     "output_type": "stream",
     "text": [
      "That's 202982 seconds\n",
      "\n"
     ]
    },
    {
     "name": "stdin",
     "output_type": "stream",
     "text": [
      "Do you want to do another conversion? [y to continue]  y\n",
      "Enter the number of hours:  5\n",
      "Enter the number of minutes:  5\n",
      "Enter the number of seconds:  5\n"
     ]
    },
    {
     "name": "stdout",
     "output_type": "stream",
     "text": [
      "That's 18305 seconds\n",
      "\n"
     ]
    },
    {
     "name": "stdin",
     "output_type": "stream",
     "text": [
      "Do you want to do another conversion? [y to continue]  \n"
     ]
    },
    {
     "name": "stdout",
     "output_type": "stream",
     "text": [
      "Goodbye!\n"
     ]
    }
   ],
   "source": [
    "def to_seconds(hours, minutes, seconds):\n",
    "    return hours*3600+minutes*60+seconds\n",
    "\n",
    "print(\"Welcome to this time converter\")\n",
    "\n",
    "cont = \"y\"\n",
    "while(cont.lower() == \"y\"):\n",
    "    hours = int(input(\"Enter the number of hours: \"))\n",
    "    minutes = int(input(\"Enter the number of minutes: \"))\n",
    "    seconds = int(input(\"Enter the number of seconds: \"))\n",
    "\n",
    "    print(\"That's {} seconds\".format(to_seconds(hours, minutes, seconds)))\n",
    "    print()\n",
    "    cont = input(\"Do you want to do another conversion? [y to continue] \")\n",
    "    \n",
    "print(\"Goodbye!\")"
   ]
  },
  {
   "cell_type": "markdown",
   "id": "a7e64597-880c-4987-9885-b62c9b74db91",
   "metadata": {},
   "source": [
    "## Standard streams"
   ]
  },
  {
   "cell_type": "code",
   "execution_count": 17,
   "id": "812142e9-f4cd-4333-837a-3ba14ecefd42",
   "metadata": {},
   "outputs": [
    {
     "name": "stdin",
     "output_type": "stream",
     "text": [
      "This will come from STDIN:  Rock on\n"
     ]
    },
    {
     "name": "stdout",
     "output_type": "stream",
     "text": [
      "Now we write it to STDOUT: Rock on\n"
     ]
    },
    {
     "ename": "TypeError",
     "evalue": "can only concatenate str (not \"int\") to str",
     "output_type": "error",
     "traceback": [
      "\u001b[1;31m---------------------------------------------------------------------------\u001b[0m",
      "\u001b[1;31mTypeError\u001b[0m                                 Traceback (most recent call last)",
      "Cell \u001b[1;32mIn[17], line 5\u001b[0m\n\u001b[0;32m      3\u001b[0m data \u001b[38;5;241m=\u001b[39m \u001b[38;5;28minput\u001b[39m(\u001b[38;5;124m\"\u001b[39m\u001b[38;5;124mThis will come from STDIN: \u001b[39m\u001b[38;5;124m\"\u001b[39m)\n\u001b[0;32m      4\u001b[0m \u001b[38;5;28mprint\u001b[39m(\u001b[38;5;124m\"\u001b[39m\u001b[38;5;124mNow we write it to STDOUT: \u001b[39m\u001b[38;5;124m\"\u001b[39m \u001b[38;5;241m+\u001b[39m data)\n\u001b[1;32m----> 5\u001b[0m \u001b[38;5;28mprint\u001b[39m(\u001b[38;5;124;43m\"\u001b[39;49m\u001b[38;5;124;43mNow we generate an error to STDERR: \u001b[39;49m\u001b[38;5;124;43m\"\u001b[39;49m\u001b[43m \u001b[49m\u001b[38;5;241;43m+\u001b[39;49m\u001b[43m \u001b[49m\u001b[43mdata\u001b[49m\u001b[43m \u001b[49m\u001b[38;5;241;43m+\u001b[39;49m\u001b[43m \u001b[49m\u001b[38;5;241;43m1\u001b[39;49m)\n",
      "\u001b[1;31mTypeError\u001b[0m: can only concatenate str (not \"int\") to str"
     ]
    }
   ],
   "source": [
    "#!/usr/bin/env python3\n",
    "\n",
    "data = input(\"This will come from STDIN: \") \n",
    "print(\"Now we write it to STDOUT: \" + data)\n",
    "print(\"Now we generate an error to STDERR: \" + data + 1)"
   ]
  },
  {
   "cell_type": "markdown",
   "id": "c4b40e8a-53b3-4d86-a1b8-99043279854e",
   "metadata": {},
   "source": [
    "## Environment variables"
   ]
  },
  {
   "cell_type": "code",
   "execution_count": 26,
   "id": "edadcc86-d447-40bc-8949-acaee20a6b91",
   "metadata": {},
   "outputs": [
    {
     "name": "stdout",
     "output_type": "stream",
     "text": [
      "HOME: \n",
      "SHELL: \n",
      "FRUIT: \n"
     ]
    }
   ],
   "source": [
    "import os\n",
    "print(\"HOME: \" + os.environ.get(\"HOME\", \"\"))\n",
    "print(\"SHELL: \" + os.environ.get(\"SHELL\", \"\"))\n",
    "print(\"FRUIT: \" + os.environ.get(\"FRUIT\", \"\"))"
   ]
  },
  {
   "cell_type": "code",
   "execution_count": null,
   "id": "c76518b0-57c5-41bc-967b-e48fda15743c",
   "metadata": {},
   "outputs": [],
   "source": []
  },
  {
   "cell_type": "code",
   "execution_count": 27,
   "id": "6288de3f-4676-4b12-8429-fa1f23af93b9",
   "metadata": {},
   "outputs": [
    {
     "name": "stdout",
     "output_type": "stream",
     "text": [
      "['C:\\\\Users\\\\Asus\\\\AppData\\\\Local\\\\Programs\\\\Python\\\\Python311\\\\Lib\\\\site-packages\\\\ipykernel_launcher.py', '-f', 'C:\\\\Users\\\\Asus\\\\AppData\\\\Roaming\\\\jupyter\\\\runtime\\\\kernel-e6351139-defa-499a-9b3b-c4decf3afe8c.json']\n"
     ]
    }
   ],
   "source": [
    "#!/usr/bin/env python3\n",
    "import sys\n",
    "print(sys.argv)"
   ]
  },
  {
   "cell_type": "code",
   "execution_count": null,
   "id": "c4a95ec6-c094-4b24-a6de-451e6e20cd72",
   "metadata": {},
   "outputs": [],
   "source": []
  },
  {
   "cell_type": "code",
   "execution_count": null,
   "id": "6a78d241-fb64-44bb-a671-cf1253aea6b8",
   "metadata": {},
   "outputs": [],
   "source": []
  },
  {
   "cell_type": "code",
   "execution_count": null,
   "id": "f8f6ed88-32a5-4d5d-aeb2-7dc244bc5f68",
   "metadata": {},
   "outputs": [],
   "source": []
  },
  {
   "cell_type": "code",
   "execution_count": null,
   "id": "64977ead-2e1c-49dc-b61c-71ca762b1557",
   "metadata": {},
   "outputs": [],
   "source": []
  },
  {
   "cell_type": "markdown",
   "id": "2590c2ec-cdb1-41ff-bfda-ff72fb10981b",
   "metadata": {},
   "source": [
    "Introduction\n",
    "\n",
    "Imagine one of your colleagues is struggling with a program that keeps throwing an error. Unfortunately, the program's source code is too complicated to easily find the error there. The good news is that the program outputs a log file you can read! Let's write a script to search the log file for the exact error, then output that error into a separate file so you can work out what's wrong.\n",
    "\n",
    "What you'll do\n",
    "\n",
    "Write a script to search the log file using regex to find for the exact error.\n",
    "\n",
    "Report the error into a separate file so you know what's wrong for further analysis.\n"
   ]
  },
  {
   "cell_type": "code",
   "execution_count": null,
   "id": "92cde8c0-3e7f-454f-9cde-098ff672c928",
   "metadata": {},
   "outputs": [],
   "source": [
    "#!/usr/bin/env python3\n",
    "\n",
    "\n",
    "import sys\n",
    "import os\n",
    "import re\n",
    "\n",
    "def error_search(log_file):\n",
    "  error = input(\"What is the error? \")\n",
    "  returned_errors = []\n",
    "  with open(log_file, mode='r',encoding='UTF-8') as file:\n",
    "    for log in  file.readlines():\n",
    "      error_patterns = [\"error\"]\n",
    "      for i in range(len(error.split(' '))):\n",
    "        error_patterns.append(r\"{}\".format(error.split(' ')[i].lower()))\n",
    "      if all(re.search(error_pattern, log.lower()) for error_pattern in error_patterns):\n",
    "        returned_errors.append(log)\n",
    "    file.close()\n",
    "  return returned_errors\n",
    "  \n",
    "def file_output(returned_errors):\n",
    "  with open(os.path.expanduser('~') + '/data/errors_found.log', 'w') as file:\n",
    "    for error in returned_errors:\n",
    "      file.write(error)\n",
    "    file.close()\n",
    "\n",
    "    \n",
    "if __name__ == \"__main__\":\n",
    "  log_file = sys.argv[1]\n",
    "  returned_errors = error_search(log_file)\n",
    "  file_output(returned_errors)\n",
    "  sys.exit(0)"
   ]
  }
 ],
 "metadata": {
  "kernelspec": {
   "display_name": "Python 3 (ipykernel)",
   "language": "python",
   "name": "python3"
  },
  "language_info": {
   "codemirror_mode": {
    "name": "ipython",
    "version": 3
   },
   "file_extension": ".py",
   "mimetype": "text/x-python",
   "name": "python",
   "nbconvert_exporter": "python",
   "pygments_lexer": "ipython3",
   "version": "3.11.1"
  }
 },
 "nbformat": 4,
 "nbformat_minor": 5
}
