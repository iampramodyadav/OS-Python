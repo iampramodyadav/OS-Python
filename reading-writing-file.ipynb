{
 "cells": [
  {
   "cell_type": "markdown",
   "id": "fa01b459-3003-4c7b-b695-5f146eeea9a6",
   "metadata": {},
   "source": [
    "# Reading and writing file"
   ]
  },
  {
   "cell_type": "markdown",
   "id": "47c166cb-5b93-4c7c-8538-0ff7658e6173",
   "metadata": {},
   "source": [
    "## Reading file"
   ]
  },
  {
   "cell_type": "code",
   "execution_count": 1,
   "id": "e2aa32d6-624a-40e6-9747-d86213506ba2",
   "metadata": {},
   "outputs": [
    {
     "name": "stdout",
     "output_type": "stream",
     "text": [
      "The itsy bitsy spider climbed up the waterspout.\n",
      "\n"
     ]
    }
   ],
   "source": [
    "file = open(\"spider.txt\")\n",
    "print(file.readline())"
   ]
  },
  {
   "cell_type": "code",
   "execution_count": 2,
   "id": "b33c6063-1c04-4a60-b807-118927e8ff76",
   "metadata": {},
   "outputs": [
    {
     "name": "stdout",
     "output_type": "stream",
     "text": [
      "Down came the rain\n",
      "\n"
     ]
    }
   ],
   "source": [
    "print(file.readline())"
   ]
  },
  {
   "cell_type": "code",
   "execution_count": 3,
   "id": "0f3ab01e-de4c-4c0c-bee9-6cef6527f6c9",
   "metadata": {},
   "outputs": [
    {
     "name": "stdout",
     "output_type": "stream",
     "text": [
      "and washed the spider out.\n",
      "Out came the sun\n",
      "and dried up all the rain\n",
      "and the itsy bitsy spider climbed up the spout again.\n"
     ]
    }
   ],
   "source": [
    "print(file.read())"
   ]
  },
  {
   "cell_type": "code",
   "execution_count": 4,
   "id": "b5a4cae4-ca44-4282-9773-f92dda74ed5f",
   "metadata": {},
   "outputs": [],
   "source": [
    "file.close()"
   ]
  },
  {
   "cell_type": "markdown",
   "id": "af68dee4-73eb-4f0a-a0f9-6b969519fdf0",
   "metadata": {},
   "source": [
    "These lines print the first three lines of the file. The `readline()` method reads one line from the file and returns it as a string. The `read()` method reads the entire file and returns it as a string. The `close()` method closes the file."
   ]
  },
  {
   "cell_type": "code",
   "execution_count": null,
   "id": "16626472-c7f5-4bc0-8776-49dd9706bffe",
   "metadata": {},
   "outputs": [],
   "source": []
  },
  {
   "cell_type": "code",
   "execution_count": 6,
   "id": "724ebde4-d7c6-4df8-bcad-6142e93e48c7",
   "metadata": {},
   "outputs": [
    {
     "name": "stdout",
     "output_type": "stream",
     "text": [
      "The itsy bitsy spider climbed up the waterspout.\n",
      "\n"
     ]
    }
   ],
   "source": [
    "with open(\"spider.txt\") as file:\n",
    "    print(file.readline())"
   ]
  },
  {
   "cell_type": "markdown",
   "id": "d16df258-b174-4c2d-a610-31c6293d4495",
   "metadata": {},
   "source": [
    "Finally, the line that uses the `with` statement to open the file `spider.txt` is in read mode. The as keyword assigns the file object to the variable `file`. The code block inside the `with` statement will be executed, and then the file will be **closed automatically.**"
   ]
  },
  {
   "cell_type": "code",
   "execution_count": null,
   "id": "08d09e5a-49d7-43fe-be43-b35e0b0c9da6",
   "metadata": {},
   "outputs": [],
   "source": []
  },
  {
   "cell_type": "markdown",
   "id": "39105f58-eede-4ccf-bf5e-f75fb08a3b39",
   "metadata": {},
   "source": [
    "## Iterating through files"
   ]
  },
  {
   "cell_type": "code",
   "execution_count": 7,
   "id": "48d2aa38-0df3-4666-bf06-47287fb08871",
   "metadata": {},
   "outputs": [
    {
     "name": "stdout",
     "output_type": "stream",
     "text": [
      "THE ITSY BITSY SPIDER CLIMBED UP THE WATERSPOUT.\n",
      "\n",
      "DOWN CAME THE RAIN\n",
      "\n",
      "AND WASHED THE SPIDER OUT.\n",
      "\n",
      "OUT CAME THE SUN\n",
      "\n",
      "AND DRIED UP ALL THE RAIN\n",
      "\n",
      "AND THE ITSY BITSY SPIDER CLIMBED UP THE SPOUT AGAIN.\n"
     ]
    }
   ],
   "source": [
    "with open(\"spider.txt\") as file:\n",
    "    for line in file:\n",
    "        print(line.upper())"
   ]
  },
  {
   "cell_type": "code",
   "execution_count": null,
   "id": "48412822-260d-47fb-825f-57b234c866ed",
   "metadata": {},
   "outputs": [],
   "source": []
  },
  {
   "cell_type": "markdown",
   "id": "f50c5886-12f7-4e37-a3ad-b498b8194496",
   "metadata": {},
   "source": [
    "Here there are spaces between the lines in the output. This is because there is a new line character at the end of each line. "
   ]
  },
  {
   "cell_type": "code",
   "execution_count": 8,
   "id": "fc51fb80-e95b-42bb-8f25-dc7919436130",
   "metadata": {},
   "outputs": [
    {
     "name": "stdout",
     "output_type": "stream",
     "text": [
      "THE ITSY BITSY SPIDER CLIMBED UP THE WATERSPOUT.\n",
      "DOWN CAME THE RAIN\n",
      "AND WASHED THE SPIDER OUT.\n",
      "OUT CAME THE SUN\n",
      "AND DRIED UP ALL THE RAIN\n",
      "AND THE ITSY BITSY SPIDER CLIMBED UP THE SPOUT AGAIN.\n"
     ]
    }
   ],
   "source": [
    "with open(\"spider.txt\") as file:\n",
    "    for line in file:\n",
    "        print(line.strip().upper())"
   ]
  },
  {
   "cell_type": "markdown",
   "id": "28ec3a8d-9f2e-4041-b43c-647897f13453",
   "metadata": {},
   "source": [
    "Here strip is used to remove the newline character, and we get the output without empty lines."
   ]
  },
  {
   "cell_type": "code",
   "execution_count": 9,
   "id": "f74b3e70-77ec-481e-9db2-050cb6a57dc4",
   "metadata": {},
   "outputs": [
    {
     "name": "stdout",
     "output_type": "stream",
     "text": [
      "['Down came the rain\\n', 'Out came the sun\\n', 'The itsy bitsy spider climbed up the waterspout.\\n', 'and dried up all the rain\\n', 'and the itsy bitsy spider climbed up the spout again.', 'and washed the spider out.\\n']\n"
     ]
    }
   ],
   "source": [
    "file = open(\"spider.txt\")\n",
    "lines = file.readlines()\n",
    "file.close()\n",
    "lines.sort()\n",
    "print(lines)"
   ]
  },
  {
   "cell_type": "markdown",
   "id": "9803372f-d43f-401b-9914-3aa8eddbb206",
   "metadata": {},
   "source": [
    "the lines have been sorted alphabetically, so they're no longer in the order that they were in the file. We can see that Python displays a newline character using \"\\n\" symbol when printing a list of strings. "
   ]
  },
  {
   "cell_type": "markdown",
   "id": "9caa3310-8724-4415-8620-a71e57789b1c",
   "metadata": {},
   "source": [
    "## Writing files"
   ]
  },
  {
   "cell_type": "code",
   "execution_count": 1,
   "id": "c0a656c0-005f-459d-b8d5-cee2e3f966a8",
   "metadata": {},
   "outputs": [],
   "source": [
    "with open(\"novel.txt\", \"w\") as file:\n",
    "    file.write(\"It was a dark and stormy night\")"
   ]
  },
  {
   "cell_type": "markdown",
   "id": "5a709b9d-9097-4d5f-9624-77365c7f833f",
   "metadata": {},
   "source": [
    "The with `open()` statement creates a file object and assigns it to the variable file. The `open()` function takes two arguments: the name of the file and the mode. In this case, the mode is `w`, which means \"write\". This tells the `open()` function to create a new file if it doesn't exist, or to overwrite the existing file if it does exist."
   ]
  },
  {
   "cell_type": "markdown",
   "id": "dcff6a14-8bab-4366-8f74-523610f90e57",
   "metadata": {},
   "source": [
    "| Character | Meaning                                                         |\n",
    "|-----------|-----------------------------------------------------------------|\n",
    "| 'r'       | open for reading (default)                                      |\n",
    "| 'w'       | open for writing, truncating the file first                     |\n",
    "| 'x'       | open for exclusive creation, failing if the file already exists |\n",
    "| 'a'       | open for writing, appending to the end of file if it exists     |\n",
    "| 'b'       | binary mode                                                     |\n",
    "| 't'       | text mode (default)                                             |\n",
    "| '+'       | open for updating (reading and writing)                         |"
   ]
  },
  {
   "cell_type": "markdown",
   "id": "22d9d9e4-aa27-4c1f-9163-9b47f54c6008",
   "metadata": {},
   "source": [
    "There are 6 access modes in Python:\n",
    "\n",
    "- Read Only (`r`)\n",
    "- Read and Write (`r+`)\n",
    "- Write Only (`w`)\n",
    "- Write and Read (`w+`)\n",
    "- Append Only (`a`)\n",
    "- Append and Read (`a+`)"
   ]
  },
  {
   "cell_type": "markdown",
   "id": "1a9be06e-d204-4150-ac4f-5ecfa9c2f7a4",
   "metadata": {},
   "source": []
  },
  {
   "cell_type": "markdown",
   "id": "021b6531-71c9-45c8-81d8-78eab15961fa",
   "metadata": {},
   "source": [
    "```python\n",
    "with open(\"sample_data/declaration.txt\", \"rt\") as textfile:\n",
    " for line in textfile:\n",
    "   print(line)\n",
    "\n",
    "```\n",
    "In this example, the first argument is a string containing the filename (sample_data/declaration.txt). The second argument identifies the mode or the way in which the file will be used (rt).\n",
    "\n",
    "```python\n",
    "f = open(\"sample_data/declaration.txt\", “w”)\n",
    "```\n",
    "In this example, the code tells Python to open this file for writing (“w” mode). "
   ]
  },
  {
   "cell_type": "markdown",
   "id": "a501d78c-ae84-4da2-88b8-aac8c28ef961",
   "metadata": {},
   "source": [
    "**Encoding**\n",
    "\n",
    "Python distinguishes between binary mode (“b”) and text mode (“t”). By default, files are opened in the text mode, which means you read and write strings from and to the file, which are encoded in a specific encoding. If encoding is not specified, the default is platform-dependent. This means that locale.getencoding() is called to get the current locale encoding. If you need to open the text in a specific encoding, you must specify it.\n",
    "\n",
    "```python\n",
    "f = open('workfile', 'w', encoding=\"utf-8\")\n",
    "```\n",
    "In this example, the encoding=“utf-8” specifies that the file should be opened with UTF-8, the modern de facto standard. Binary mode data is read and written as bytes objects. You cannot specify encoding when opening a file in binary mode."
   ]
  },
  {
   "cell_type": "markdown",
   "id": "db94ed26-1f2b-4810-b055-a53c4ffcdb57",
   "metadata": {},
   "source": [
    "## How to write file paths in code"
   ]
  },
  {
   "cell_type": "markdown",
   "id": "a867b5ba-b365-4d12-98ef-28d0beb183fc",
   "metadata": {},
   "source": [
    "Windows file directory\n",
    "\n",
    "```\n",
    "C:\\my-directory\\target-file.txt\n",
    "```\n",
    "\n",
    "Windows file directory written in Python\n",
    "\n",
    "```\n",
    "C:/my-directory/target-file.txt.\n",
    "```\n",
    "\n",
    "Windows file directory\n",
    "\n",
    "```\n",
    "C:\\\\my-directory\\\\target-file.txt\n",
    "```\n",
    "\n",
    "CWD command: \n",
    "```\n",
    "os.getcwd()\n",
    "```\n",
    "\n",
    "CWD command for external files:\n",
    "\n",
    "```\n",
    "outputs['current_directory_before'] = os.getcwd()\n",
    "```"
   ]
  },
  {
   "cell_type": "code",
   "execution_count": 2,
   "id": "7d35f8a4-7400-49cb-9178-e6934322118c",
   "metadata": {},
   "outputs": [
    {
     "data": {
      "text/plain": [
       "'C:\\\\Users\\\\Asus\\\\Desktop\\\\GitHUb\\\\OS-Python'"
      ]
     },
     "execution_count": 2,
     "metadata": {},
     "output_type": "execute_result"
    }
   ],
   "source": [
    "import os\n",
    "os.getcwd()"
   ]
  },
  {
   "cell_type": "code",
   "execution_count": 11,
   "id": "8807e4f1-a701-4c88-9307-44fdca015ef4",
   "metadata": {},
   "outputs": [],
   "source": [
    "outputs = {}"
   ]
  },
  {
   "cell_type": "code",
   "execution_count": 12,
   "id": "6c9970a7-f8e0-4030-b588-e9228b6557c1",
   "metadata": {},
   "outputs": [],
   "source": [
    "outputs['current_directory_before'] = os.getcwd()"
   ]
  },
  {
   "cell_type": "code",
   "execution_count": 13,
   "id": "bf6b14ad-53a0-4134-9c44-c3ef3039d85f",
   "metadata": {},
   "outputs": [],
   "source": [
    "outputs['files_and_directories'] = os. listdir()"
   ]
  },
  {
   "cell_type": "code",
   "execution_count": 16,
   "id": "c89a5734-1ae9-4825-9432-30cf23f34435",
   "metadata": {},
   "outputs": [],
   "source": [
    "outputs['path_value'] = os.environ.get ('PATH' )"
   ]
  },
  {
   "cell_type": "code",
   "execution_count": 17,
   "id": "d4935518-94de-4046-8923-80cc5a68b1a5",
   "metadata": {},
   "outputs": [
    {
     "data": {
      "text/plain": [
       "{'current_directory_before': 'C:\\\\Users\\\\Asus\\\\Desktop\\\\GitHUb\\\\OS-Python',\n",
       " 'files_and_directories': ['.git',\n",
       "  '.ipynb_checkpoints',\n",
       "  'novel.txt',\n",
       "  'reading-writing-file.ipynb',\n",
       "  'README.md',\n",
       "  'spider.txt'],\n",
       " 'path_value': 'C:\\\\SIMULIA\\\\Commands;C:\\\\Program Files\\\\Microsoft MPI\\\\Bin\\\\;C:\\\\Windows\\\\system32;C:\\\\Windows;C:\\\\Windows\\\\System32\\\\Wbem;C:\\\\Windows\\\\System32\\\\WindowsPowerShell\\\\v1.0\\\\;C:\\\\Windows\\\\System32\\\\OpenSSH\\\\;C:\\\\Program Files\\\\Polyspace\\\\R2021a\\\\runtime\\\\win64;C:\\\\Program Files\\\\Polyspace\\\\R2021a\\\\bin;C:\\\\Program Files\\\\Microsoft SQL Server\\\\150\\\\Tools\\\\Binn\\\\;C:\\\\Program Files\\\\Git\\\\cmd;C:\\\\Program Files\\\\dotnet\\\\;C:\\\\Users\\\\Asus\\\\AppData\\\\Local\\\\Programs\\\\Python\\\\Python311\\\\Scripts\\\\;C:\\\\Users\\\\Asus\\\\AppData\\\\Local\\\\Programs\\\\Python\\\\Python311\\\\;C:\\\\Users\\\\Asus\\\\AppData\\\\Local\\\\Microsoft\\\\WindowsApps;;C:\\\\Users\\\\Asus\\\\AppData\\\\Local\\\\Programs\\\\Microsoft VS Code\\\\bin'}"
      ]
     },
     "execution_count": 17,
     "metadata": {},
     "output_type": "execute_result"
    }
   ],
   "source": [
    "outputs"
   ]
  },
  {
   "cell_type": "code",
   "execution_count": null,
   "id": "ee5a67ba-bead-4026-a0de-06b38f9668f4",
   "metadata": {},
   "outputs": [],
   "source": []
  },
  {
   "cell_type": "markdown",
   "id": "f2dd27aa-7682-4fa6-b18e-183a7045a0b5",
   "metadata": {},
   "source": [
    "## Working with files"
   ]
  },
  {
   "cell_type": "code",
   "execution_count": 19,
   "id": "a7031ec1-8bbc-4322-bfe2-2af5670ee1d2",
   "metadata": {},
   "outputs": [],
   "source": [
    "import os\n",
    "os.remove(\"novel.txt\")"
   ]
  },
  {
   "cell_type": "markdown",
   "id": "6787f84a-0c90-4f19-9d69-09f3b1f69e72",
   "metadata": {},
   "source": [
    "This code removes the file novel.txt"
   ]
  },
  {
   "cell_type": "code",
   "execution_count": 20,
   "id": "ab6787bc-83ff-446a-bb2e-c68df5546b6b",
   "metadata": {},
   "outputs": [
    {
     "ename": "FileNotFoundError",
     "evalue": "[WinError 2] The system cannot find the file specified: 'novel.txt'",
     "output_type": "error",
     "traceback": [
      "\u001b[1;31m---------------------------------------------------------------------------\u001b[0m",
      "\u001b[1;31mFileNotFoundError\u001b[0m                         Traceback (most recent call last)",
      "Cell \u001b[1;32mIn[20], line 2\u001b[0m\n\u001b[0;32m      1\u001b[0m \u001b[38;5;28;01mimport\u001b[39;00m \u001b[38;5;21;01mos\u001b[39;00m\n\u001b[1;32m----> 2\u001b[0m \u001b[43mos\u001b[49m\u001b[38;5;241;43m.\u001b[39;49m\u001b[43mremove\u001b[49m\u001b[43m(\u001b[49m\u001b[38;5;124;43m\"\u001b[39;49m\u001b[38;5;124;43mnovel.txt\u001b[39;49m\u001b[38;5;124;43m\"\u001b[39;49m\u001b[43m)\u001b[49m\n",
      "\u001b[1;31mFileNotFoundError\u001b[0m: [WinError 2] The system cannot find the file specified: 'novel.txt'"
     ]
    }
   ],
   "source": [
    "import os\n",
    "os.remove(\"novel.txt\")"
   ]
  },
  {
   "cell_type": "markdown",
   "id": "ab0002c1-1780-445f-a9ca-20556fb75169",
   "metadata": {},
   "source": [
    "This code will throw a file not found error. You cannot remove a file that doesn’t exist."
   ]
  },
  {
   "cell_type": "markdown",
   "id": "825bb7ea-ab44-4b52-8ec8-004b46bc4f9a",
   "metadata": {},
   "source": [
    "```python\n",
    "os.rename(\"first_draft.txt\", \"finished_masterpiece.txt\")\n",
    "```\n",
    "This code can be used to rename a file. "
   ]
  },
  {
   "cell_type": "code",
   "execution_count": 28,
   "id": "bfb932eb-4d4f-4b3e-9e61-125626986b8a",
   "metadata": {},
   "outputs": [
    {
     "data": {
      "text/plain": [
       "True"
      ]
     },
     "execution_count": 28,
     "metadata": {},
     "output_type": "execute_result"
    }
   ],
   "source": [
    "os.path.exists(\"README.md\")"
   ]
  },
  {
   "cell_type": "code",
   "execution_count": 29,
   "id": "c75f046f-6f79-4951-a826-6797e9cff9f3",
   "metadata": {},
   "outputs": [
    {
     "data": {
      "text/plain": [
       "False"
      ]
     },
     "execution_count": 29,
     "metadata": {},
     "output_type": "execute_result"
    }
   ],
   "source": [
    "os.path.exists(\"userlist.txt\")"
   ]
  },
  {
   "cell_type": "markdown",
   "id": "8d4687d9-f66d-40e0-99b2-ba8dfc716adb",
   "metadata": {},
   "source": [
    "This code checks whether or not a file exists. If the file exists it will return True. If the file does not exist it will return False."
   ]
  },
  {
   "cell_type": "markdown",
   "id": "72e6eba2-a8a5-4250-9a58-0287030d9431",
   "metadata": {},
   "source": [
    "## More file information"
   ]
  },
  {
   "cell_type": "markdown",
   "id": "2ee3fcc0-a631-41e6-8c71-60b08a0574d6",
   "metadata": {},
   "source": []
  },
  {
   "cell_type": "code",
   "execution_count": 30,
   "id": "5b166b2a-448e-4b2b-a8d9-14b57ebcca78",
   "metadata": {},
   "outputs": [
    {
     "data": {
      "text/plain": [
       "191"
      ]
     },
     "execution_count": 30,
     "metadata": {},
     "output_type": "execute_result"
    }
   ],
   "source": [
    "os.path.getsize(\"spider.txt\")\n",
    "#This code will provide the file size"
   ]
  },
  {
   "cell_type": "code",
   "execution_count": 31,
   "id": "bafe6375-911e-4497-86d5-cf385e9dc147",
   "metadata": {},
   "outputs": [
    {
     "data": {
      "text/plain": [
       "1721209292.3631647"
      ]
     },
     "execution_count": 31,
     "metadata": {},
     "output_type": "execute_result"
    }
   ],
   "source": [
    "os.path.getmtime(\"spider.txt\")\n",
    "#This code will provide a unix timestamp for the file"
   ]
  },
  {
   "cell_type": "code",
   "execution_count": 58,
   "id": "27a4a671-72ae-47e5-ad58-057a5e99fa90",
   "metadata": {},
   "outputs": [],
   "source": [
    "import datetime\n",
    "timestamp = os.path.getmtime(\"spider.txt\")\n",
    "dt_object = datetime.datetime.fromtimestamp(timestamp)\n",
    "#This code will provide the date and time for the file in an \n",
    "#easy-to-understand format"
   ]
  },
  {
   "cell_type": "code",
   "execution_count": 60,
   "id": "b83153d2-2bc4-4251-bf7a-fda45b1bec3e",
   "metadata": {},
   "outputs": [
    {
     "name": "stdout",
     "output_type": "stream",
     "text": [
      "2024-07-17\n"
     ]
    }
   ],
   "source": [
    "print()"
   ]
  },
  {
   "cell_type": "code",
   "execution_count": 33,
   "id": "f72818fd-99bd-4b43-a92a-a42221484871",
   "metadata": {},
   "outputs": [
    {
     "data": {
      "text/plain": [
       "'C:\\\\Users\\\\Asus\\\\Desktop\\\\GitHUb\\\\OS-Python\\\\spider.txt'"
      ]
     },
     "execution_count": 33,
     "metadata": {},
     "output_type": "execute_result"
    }
   ],
   "source": [
    "os.path.abspath(\"spider.txt\")\n",
    "#This code takes the file name and turns it into an absolute path"
   ]
  },
  {
   "cell_type": "code",
   "execution_count": 61,
   "id": "e99f6e0b-e8b6-4d14-a179-f3e19bc3565f",
   "metadata": {},
   "outputs": [
    {
     "name": "stdout",
     "output_type": "stream",
     "text": [
      "C:\\Users\\Asus\\Desktop\\GitHUb\n"
     ]
    }
   ],
   "source": []
  },
  {
   "cell_type": "markdown",
   "id": "10e11321-f76b-4e35-a30f-5c42e3c0594a",
   "metadata": {},
   "source": [
    "## Directories"
   ]
  },
  {
   "cell_type": "code",
   "execution_count": 34,
   "id": "473eba11-c8d0-40aa-a7b3-d3f4d7b55617",
   "metadata": {},
   "outputs": [
    {
     "name": "stdout",
     "output_type": "stream",
     "text": [
      "C:\\Users\\Asus\\Desktop\\GitHUb\\OS-Python\n"
     ]
    }
   ],
   "source": [
    "print(os.getcwd())\n",
    "#This code snippet returns the current working directory."
   ]
  },
  {
   "cell_type": "code",
   "execution_count": 35,
   "id": "fdff66de-885e-490a-b70b-b51b84cd1073",
   "metadata": {},
   "outputs": [],
   "source": [
    "os.mkdir(\"new_dir\")\n",
    "#The os.mkdir(\"new_dir\") function creates a new directory called new_dir"
   ]
  },
  {
   "cell_type": "code",
   "execution_count": 36,
   "id": "e4c42f02-c9fe-4c78-ba08-70b627a0f97b",
   "metadata": {},
   "outputs": [
    {
     "data": {
      "text/plain": [
       "'C:\\\\Users\\\\Asus\\\\Desktop\\\\GitHUb\\\\OS-Python\\\\new_dir'"
      ]
     },
     "execution_count": 36,
     "metadata": {},
     "output_type": "execute_result"
    }
   ],
   "source": [
    "os.chdir(\"new_dir\")\n",
    "os.getcwd()\n",
    "#This code snippet changes the current working directory to new_dir. \n",
    "#The second line prints the current working directory."
   ]
  },
  {
   "cell_type": "code",
   "execution_count": 42,
   "id": "de339a83-ef16-4f8a-9fb1-6815dd08ff33",
   "metadata": {},
   "outputs": [
    {
     "data": {
      "text/plain": [
       "'C:\\\\Users\\\\Asus\\\\Desktop\\\\GitHUb\\\\OS-Python'"
      ]
     },
     "execution_count": 42,
     "metadata": {},
     "output_type": "execute_result"
    }
   ],
   "source": [
    "os.chdir(\"C:\\\\Users\\\\Asus\\\\Desktop\\\\GitHUb\\\\OS-Python\")\n",
    "os.getcwd()"
   ]
  },
  {
   "cell_type": "code",
   "execution_count": null,
   "id": "c4c9a928-bcf4-4e8a-b795-fca2c4580fd2",
   "metadata": {},
   "outputs": [],
   "source": []
  },
  {
   "cell_type": "code",
   "execution_count": 38,
   "id": "cb654793-1bea-479a-a49b-0c82a18952c8",
   "metadata": {},
   "outputs": [],
   "source": [
    "os.mkdir(\"newer_dir\")"
   ]
  },
  {
   "cell_type": "code",
   "execution_count": 39,
   "id": "4cb71f05-6ffe-474d-a384-4d06e48a5c27",
   "metadata": {},
   "outputs": [],
   "source": [
    "os.rmdir(\"newer_dir\")\n",
    "#This code snippet creates a new directory called newer_dir. \n",
    "#The second line deletes the newer_dir directory."
   ]
  },
  {
   "cell_type": "code",
   "execution_count": 44,
   "id": "308446dc-af47-4cbe-8b8d-f736bc7175f4",
   "metadata": {},
   "outputs": [
    {
     "data": {
      "text/plain": [
       "['.git',\n",
       " '.ipynb_checkpoints',\n",
       " 'new_dir',\n",
       " 'reading-writing-file.ipynb',\n",
       " 'README.md',\n",
       " 'spider.txt']"
      ]
     },
     "execution_count": 44,
     "metadata": {},
     "output_type": "execute_result"
    }
   ],
   "source": [
    "os.listdir(\"C:\\\\Users\\\\Asus\\\\Desktop\\\\GitHUb\\\\OS-Python\")\n",
    "#This code snippet returns a list of all the files and \n",
    "#sub-directories in the website directory."
   ]
  },
  {
   "cell_type": "code",
   "execution_count": 43,
   "id": "f118096f-bf8d-4173-9ee6-c59f4670187f",
   "metadata": {},
   "outputs": [
    {
     "name": "stdout",
     "output_type": "stream",
     "text": [
      "C:\\Users\\Asus\\Desktop\\GitHUb\\OS-Python\\.git is a directory\n",
      "C:\\Users\\Asus\\Desktop\\GitHUb\\OS-Python\\.ipynb_checkpoints is a directory\n",
      "C:\\Users\\Asus\\Desktop\\GitHUb\\OS-Python\\new_dir is a directory\n",
      "C:\\Users\\Asus\\Desktop\\GitHUb\\OS-Python\\reading-writing-file.ipynb is a file\n",
      "C:\\Users\\Asus\\Desktop\\GitHUb\\OS-Python\\README.md is a file\n",
      "C:\\Users\\Asus\\Desktop\\GitHUb\\OS-Python\\spider.txt is a file\n"
     ]
    }
   ],
   "source": [
    " dir = \"C:\\\\Users\\\\Asus\\\\Desktop\\\\GitHUb\\\\OS-Python\"\n",
    " for name in os.listdir(dir):\n",
    "     fullname = os.path.join(dir, name)\n",
    "     if os.path.isdir(fullname):\n",
    "          print(\"{} is a directory\".format(fullname))\n",
    "     else:\n",
    "          print(\"{} is a file\".format(fullname))"
   ]
  },
  {
   "cell_type": "markdown",
   "id": "5b3ca591-1295-47db-89dd-121ecfb4b81f",
   "metadata": {},
   "source": [
    "Here is the code all together. This code defines a dir variable with the name of the directory that we want to check. This makes our code more readable and more usable. Then, it iterates through the file names returned by the os.listdir(). We know from our previous execution of this function that these are just the names of the files without directory. By using os.path.join(), we join the directory to each of those file names and create a string with a valid full name. Finally, we use that full name to call os.path.isdir() to check if it's a directory or a file. "
   ]
  },
  {
   "cell_type": "markdown",
   "id": "16b137df-1f28-44f6-98b6-8f438b16ef5e",
   "metadata": {},
   "source": [
    "## Files and directories"
   ]
  },
  {
   "cell_type": "markdown",
   "id": "be397a07-b087-4fa6-81e2-74c198666bf4",
   "metadata": {},
   "source": [
    "Let’s take a look at two examples. The first example uses OS; the second uses Pathlib. These two code examples do the same thing: They create a directory called test1 and move a file named README.md from the sample_data folder into test1."
   ]
  },
  {
   "cell_type": "markdown",
   "id": "b194d752-6594-485e-a458-a9f73a680150",
   "metadata": {},
   "source": [
    "An example of using the OS function to create a directory and move a file:"
   ]
  },
  {
   "cell_type": "code",
   "execution_count": 46,
   "id": "779680dd-766b-4072-b62c-04ea33bb038d",
   "metadata": {},
   "outputs": [],
   "source": [
    "# Create a directory and move a file from one directory to another\n",
    "# using low-level OS functions.\n",
    "\n",
    "import os\n",
    "\n",
    "# Check to see if a directory named \"test1\" exists under the current\n",
    "# directory. If not, create it:\n",
    "dest_dir = os.path.join(os.getcwd(), \"test1\")\n",
    "if not os.path.exists(dest_dir):\n",
    " os.mkdir(dest_dir)\n",
    "\n",
    "\n",
    "# Construct source and destination paths:\n",
    "src_file = os.path.join(os.getcwd(), \"sample_data\", \"README.md\")\n",
    "dest_file = os.path.join(os.getcwd(), \"test1\", \"README.md\")\n",
    "\n",
    "\n",
    "# Move the file from its original location to the destination:\n",
    "os.rename(src_file, dest_file)"
   ]
  },
  {
   "cell_type": "code",
   "execution_count": 49,
   "id": "1dc473f8-a8f7-4a43-b9f6-012ecc3d769e",
   "metadata": {},
   "outputs": [
    {
     "data": {
      "text/plain": [
       "WindowsPath('test1/README.md')"
      ]
     },
     "execution_count": 49,
     "metadata": {},
     "output_type": "execute_result"
    }
   ],
   "source": [
    "# Create a directory and move a file from one directory to another\n",
    "# using Pathlib.\n",
    "\n",
    "from pathlib import Path\n",
    "\n",
    "# Check to see if the \"test1\" subdirectory exists. If not, create it:\n",
    "dest_dir = Path(\"./test1/\")\n",
    "if not dest_dir.exists():\n",
    "  dest_dir.mkdir()\n",
    "\n",
    "# Construct source and destination paths:\n",
    "src_file = Path(\"./sample_data/README.md\")\n",
    "dest_file = dest_dir / \"README.md\"\n",
    "\n",
    "# Move the file from its original location to the destination:\n",
    "src_file.rename(dest_file)"
   ]
  },
  {
   "cell_type": "markdown",
   "id": "ec0f3468-4e60-46ea-af49-744c815aae51",
   "metadata": {},
   "source": [
    "**The OS module**\n",
    "\n",
    "Python’s OS module, or the miscellaneous operating system interface, is very useful for file operations, directories, and permissions. Let’s take a look at each.\n",
    "\n",
    "- **File operations**\n",
    "\n",
    "File names can be thought of as two names separated by a dot. For example, helloworld.txt is the file name and the extension defines the file type. OS provides functions to create, read, update, and delete files. Some of the basic functions include:\n",
    "\n",
    "     - Opening and closing files\n",
    "     - Reading from and writing to files\n",
    "     - Appending to files\n",
    "\n",
    "\n",
    "- **Directories**\n",
    "OS also provides functions to create, read, update, and delete directories, as well as change directories and list files. Knowing how to use these functions is key to working with files. For example, `os.listdir( path )` returns a list of all files and subdirectories in a directory.\n",
    "\n",
    "- **Permissions**\n",
    "Having the ability to update file permissions is an important aspect of making installations from a terminal window. The `os.chmod()` provides the ability to create, read, and update permissions for individuals or groups.\n",
    "\n",
    "- **Things to keep in mind**\n",
    "One thing to be aware of is that Python treats text and binary files differently. Because Python is cross-platform, it tries to automatically handle different ASCII line endings. If you’re processing a binary file, make sure to open it in binary mode so Python doesn’t try to “fix” newlines in a binary file.\n",
    "\n",
    "A best practice is to always close() a file when you’re done reading or writing to it. Even though Python usually closes them for you, it’s a good signal to other people reading your code that you’re done with that file. Make sure to catch any potential errors from filesystem calls, such as permission denied, file not found, and so on. Generally, you wrap them in try/except to handle those errors."
   ]
  },
  {
   "cell_type": "markdown",
   "id": "244d2418-5346-4746-97e2-070e7a7a2875",
   "metadata": {},
   "source": [
    "## exercise"
   ]
  },
  {
   "cell_type": "markdown",
   "id": "5de89973-ad41-4e8e-b889-949bdee92a74",
   "metadata": {},
   "source": [
    "Question 1\n",
    "The create_python_script function creates a new python script in the current working directory, adds the line of comments to it declared  by the 'comments' variable, and returns the size of the new file. Fill in the gaps to create a script called \"program.py\"."
   ]
  },
  {
   "cell_type": "code",
   "execution_count": 63,
   "id": "3535cce4-3532-437e-b9d7-adad043a71bd",
   "metadata": {},
   "outputs": [
    {
     "name": "stdout",
     "output_type": "stream",
     "text": [
      "31\n"
     ]
    }
   ],
   "source": [
    "import os\n",
    "def create_python_script(filename):\n",
    "  comments = \"# Start of a new Python program\"\n",
    "  with open(filename, \"w\") as file:\n",
    "    file.write(comments)\n",
    "\n",
    "  filesize = os.path.getsize(filename)\n",
    "  return(filesize)\n",
    "\n",
    "print(create_python_script(\"program.py\"))"
   ]
  },
  {
   "cell_type": "code",
   "execution_count": 64,
   "id": "77039227-94ff-4168-8aac-17e4a6399674",
   "metadata": {},
   "outputs": [
    {
     "data": {
      "text/plain": [
       "'C:\\\\Users\\\\Asus\\\\Desktop\\\\GitHUb\\\\OS-Python'"
      ]
     },
     "execution_count": 64,
     "metadata": {},
     "output_type": "execute_result"
    }
   ],
   "source": [
    "os.getcwd()"
   ]
  },
  {
   "cell_type": "code",
   "execution_count": null,
   "id": "8be7628e-13a0-4ebb-8cae-04ce74855f06",
   "metadata": {},
   "outputs": [],
   "source": []
  },
  {
   "cell_type": "markdown",
   "id": "c9434225-4daa-4a98-b2c7-acf8d11c6696",
   "metadata": {},
   "source": [
    "The parent_directory function returns the name of the directory that's located just above the current working directory. Remember that '..' is a relative path alias that means \"go up to the parent directory\". Fill in the gaps to complete this function."
   ]
  },
  {
   "cell_type": "code",
   "execution_count": 65,
   "id": "344da875-5a3a-46f1-a9ba-a7431cdc7fbc",
   "metadata": {},
   "outputs": [
    {
     "name": "stdout",
     "output_type": "stream",
     "text": [
      "C:\\Users\\Asus\\Desktop\\GitHUb\n"
     ]
    }
   ],
   "source": [
    "import os\n",
    "\n",
    "def parent_directory():\n",
    "    # Create a relative path to the parent \n",
    "    # of the current working directory \n",
    "    relative_parent = os.path.join(os.getcwd(), '..')\n",
    "    \n",
    "    # Return the absolute path of the parent directory\n",
    "    return os.path.abspath(relative_parent)\n",
    "\n",
    "print(parent_directory())"
   ]
  },
  {
   "cell_type": "markdown",
   "id": "fd1da09a-492b-4ddd-8f7a-c47f2fd22a52",
   "metadata": {},
   "source": [
    "Question 2\n",
    "The new_directory function creates a new directory inside the current working directory, then creates a new empty file inside the new directory, and returns the list of files in that directory. Fill in the gaps to create a file \"script.py\" in the directory \"PythonPrograms\"."
   ]
  },
  {
   "cell_type": "code",
   "execution_count": 67,
   "id": "3f236c0b-70f3-4f10-ada1-267c4edb2864",
   "metadata": {},
   "outputs": [
    {
     "name": "stdout",
     "output_type": "stream",
     "text": [
      "['script.py']\n"
     ]
    }
   ],
   "source": [
    "import os\n",
    "\n",
    "def new_directory(directory, filename):\n",
    "  # Before creating a new directory, check to see if it already exists\n",
    "  if os.path.isdir(directory) == False:\n",
    "    os.mkdir(directory)\n",
    "\n",
    "  # Create the new file inside of the new directory\n",
    "  os.chdir(directory)\n",
    "  with open (filename,\"w\") as file:\n",
    "    pass\n",
    "\n",
    "  # Return the list of files in the new directory\n",
    "  return os.listdir()\n",
    "\n",
    "print(new_directory(\"PythonPrograms\", \"script.py\"))"
   ]
  },
  {
   "cell_type": "code",
   "execution_count": null,
   "id": "ace90bed-8f49-4305-85d1-8022651a3eac",
   "metadata": {},
   "outputs": [],
   "source": []
  },
  {
   "cell_type": "markdown",
   "id": "5fe14ffc-4b3b-4f3c-9b85-2e09bfdca89c",
   "metadata": {},
   "source": [
    "The file_date function creates a new file in the current working directory, checks the date that the file was modified, and returns just the date portion of the timestamp in the format of yyyy-mm-dd. Fill in the gaps to create a file called \"newfile.txt\" and check the date that it was modified.\n",
    "\n"
   ]
  },
  {
   "cell_type": "code",
   "execution_count": 66,
   "id": "ec7273b3-60f2-4f44-adc8-896fd9d3b2e5",
   "metadata": {},
   "outputs": [
    {
     "name": "stdout",
     "output_type": "stream",
     "text": [
      "2024-07-17\n"
     ]
    }
   ],
   "source": [
    "import os\n",
    "import datetime\n",
    "\n",
    "def file_date(filename):\n",
    "  # Create the file in the current directory\n",
    "  with open(filename, \"w\") as file:\n",
    "    pass\n",
    "  timestamp = os.path.getmtime(filename)\n",
    "  # Convert the timestamp into a readable format, then into a string\n",
    "  dt_ob =datetime.datetime.fromtimestamp(timestamp)\n",
    "  # Return just the date portion \n",
    "  # Hint: how many characters are in “yyyy-mm-dd”? \n",
    "  return (\"{}\".format(dt_ob.strftime('%Y-%m-%d')))\n",
    "\n",
    "print(file_date(\"newfile.txt\")) \n",
    "# Should be today's date in the format of yyyy-mm-dd"
   ]
  },
  {
   "cell_type": "code",
   "execution_count": null,
   "id": "3c0cab4c-adcb-4d61-8030-c633cfcf1f92",
   "metadata": {},
   "outputs": [],
   "source": []
  },
  {
   "cell_type": "markdown",
   "id": "e0555eb3-3ec1-4838-aaeb-822f86b18ee0",
   "metadata": {},
   "source": [
    "# Reading and writing CSV file"
   ]
  },
  {
   "cell_type": "code",
   "execution_count": 73,
   "id": "02549b93-1eb9-4f64-859c-b9e92249affc",
   "metadata": {},
   "outputs": [
    {
     "data": {
      "text/plain": [
       "'C:\\\\Users\\\\Asus\\\\Desktop\\\\GitHUb\\\\OS-Python'"
      ]
     },
     "execution_count": 73,
     "metadata": {},
     "output_type": "execute_result"
    }
   ],
   "source": [
    "os.chdir(\"C:\\\\Users\\\\Asus\\\\Desktop\\\\GitHUb\\\\OS-Python\")\n",
    "os.getcwd()"
   ]
  },
  {
   "cell_type": "code",
   "execution_count": 85,
   "id": "19a62aa4-ca01-4d23-97c2-f9e99028f51d",
   "metadata": {},
   "outputs": [
    {
     "name": "stdout",
     "output_type": "stream",
     "text": [
      "Name: Sabrina Green, Phone: 802-867-5309, Role: System Administrator\n",
      "Name: Eli Jones, Phone: 684-3481127, Role: IT specialist\n",
      "Name: Melody Daniels, Phone: 846-687-7436, Role: Programmer\n",
      "Name: Charlie Rivera, Phone: 698-746-3357, Role: Web Developer\n"
     ]
    }
   ],
   "source": [
    "import csv\n",
    "\n",
    "f = open(\"csv_file.csv\")\n",
    "csv_f = csv.reader(f)\n",
    "for row in csv_f:\n",
    "    name, phone, role = row\n",
    "    print(\"Name: {}, Phone: {}, Role: {}\".format(name, phone, role))\n",
    "f.close()"
   ]
  },
  {
   "cell_type": "code",
   "execution_count": 86,
   "id": "e87a3c7b-3097-42ec-986a-fc01752ce9e2",
   "metadata": {},
   "outputs": [
    {
     "data": {
      "text/plain": [
       "4"
      ]
     },
     "execution_count": 86,
     "metadata": {},
     "output_type": "execute_result"
    }
   ],
   "source": [
    "csv_f.line_num"
   ]
  },
  {
   "cell_type": "markdown",
   "id": "5387ab39-2ea3-4a95-b0fd-1bacb048c359",
   "metadata": {},
   "source": [
    "## Generating CSV"
   ]
  },
  {
   "cell_type": "code",
   "execution_count": 80,
   "id": "83d2cee6-1c19-4db4-a12f-55165a6fda23",
   "metadata": {},
   "outputs": [],
   "source": [
    "import csv\n",
    "\n",
    "hosts = [[\"workstation.local\", \"192.168.25.46\"],[\"webserver.cloud\", \"10.2.5.6\"]]\n",
    "with open('hosts.csv', 'w') as hosts_csv:\n",
    "    writer = csv.writer(hosts_csv)\n",
    "    writer.writerows(hosts)"
   ]
  },
  {
   "cell_type": "markdown",
   "id": "29c2378e-d5b1-4f4d-86a0-51cbff55ad59",
   "metadata": {},
   "source": [
    "## Reading and writing CSV Files with Dictionaries"
   ]
  },
  {
   "cell_type": "code",
   "execution_count": 81,
   "id": "3fa0594f-c466-4d77-9746-1bd78619c1a1",
   "metadata": {},
   "outputs": [
    {
     "name": "stdout",
     "output_type": "stream",
     "text": [
      "MailTree has 324 users\n",
      "CalDoor has 22 users\n",
      "Chatty Chicken has 4 users\n"
     ]
    }
   ],
   "source": [
    "with open('software.csv') as software:\n",
    "    reader = csv.DictReader(software)\n",
    "    for row in reader:\n",
    "      print((\"{} has {} users\").format(row[\"name\"], row[\"users\"]))"
   ]
  },
  {
   "cell_type": "markdown",
   "id": "19ef6881-f419-418e-beb4-66a6dca07899",
   "metadata": {},
   "source": [
    "Here the code is opening the file and creating a DictReader to process our CSV data. Then, it’s going through the rows to access information in each row using the keys just like we would when accessing data in the dictionary. "
   ]
  },
  {
   "cell_type": "code",
   "execution_count": 82,
   "id": "83d2b216-261a-481c-bc48-6a69fa64c0ff",
   "metadata": {},
   "outputs": [],
   "source": [
    "users = [ {\"name\": \"Sol Mansi\", \"username\": \"solm\", \"department\": \"IT infrastructure\"}, \n",
    " {\"name\": \"Lio Nelson\", \"username\": \"lion\", \"department\": \"User Experience Research\"}, \n",
    "  {\"name\": \"Charlie Grey\", \"username\": \"greyc\", \"department\": \"Development\"}]\n",
    "\n",
    "keys = [\"name\", \"username\", \"department\"]\n",
    "\n",
    "with open('by_department.csv', 'w') as by_department:\n",
    "    writer = csv.DictWriter(by_department, fieldnames=keys)\n",
    "    writer.writeheader()\n",
    "    writer.writerows(users)"
   ]
  },
  {
   "cell_type": "code",
   "execution_count": null,
   "id": "91f268d7-011c-4a62-84e8-d00dee629e48",
   "metadata": {},
   "outputs": [],
   "source": []
  },
  {
   "cell_type": "markdown",
   "id": "c5dc51b8-c394-4df1-81e3-75fbde1b7c7c",
   "metadata": {},
   "source": [
    "## exercise"
   ]
  },
  {
   "cell_type": "markdown",
   "id": "b3ca70a1-ee4d-4848-8a78-f089c8246329",
   "metadata": {},
   "source": [
    "Question 1\n",
    "We're working with a list of flowers and some information about each one. The create_file function writes this information to a CSV file. The contents_of_file function reads this file into records and returns the information in a nicely formatted block. Fill in the gaps of the contents_of_file function to turn the data in the CSV file into a dictionary using DictReader."
   ]
  },
  {
   "cell_type": "code",
   "execution_count": 88,
   "id": "170e5356-9268-4714-8de1-3f25cc9a6b17",
   "metadata": {},
   "outputs": [
    {
     "name": "stdout",
     "output_type": "stream",
     "text": [
      "a pink carnation is annual\n",
      "a yellow daffodil is perennial\n",
      "a blue iris is perennial\n",
      "a red poinsettia is perennial\n",
      "a yellow sunflower is annual\n",
      "\n"
     ]
    }
   ],
   "source": [
    "import os\n",
    "import csv\n",
    "\n",
    "# Create a file with data in it\n",
    "def create_file(filename):\n",
    "  with open(filename, \"w\") as file:\n",
    "    file.write(\"name,color,type\\n\")\n",
    "    file.write(\"carnation,pink,annual\\n\")\n",
    "    file.write(\"daffodil,yellow,perennial\\n\")\n",
    "    file.write(\"iris,blue,perennial\\n\")\n",
    "    file.write(\"poinsettia,red,perennial\\n\")\n",
    "    file.write(\"sunflower,yellow,annual\\n\")\n",
    "\n",
    "\n",
    "# Read the file contents and format the information about each row\n",
    "def contents_of_file(filename):\n",
    "  return_string = \"\"\n",
    "\n",
    "  # Call the function to create the file \n",
    "  create_file(filename)\n",
    "\n",
    "  # Open the file\n",
    "  with open(filename) as file:\n",
    "    # Read the rows of the file into a dictionary\n",
    "    rows = csv.DictReader(file)\n",
    "    # Process each item of the dictionary\n",
    "    for row in rows:\n",
    "      return_string += \"a {} {} is {}\\n\".format(row[\"color\"], row[\"name\"], row[\"type\"])\n",
    "  return return_string\n",
    "\n",
    "\n",
    "#Call the function\n",
    "print(contents_of_file(\"flowers.csv\"))"
   ]
  },
  {
   "cell_type": "markdown",
   "id": "479a0ff1-8d4e-4bcd-91a3-c6a899a6b4fd",
   "metadata": {},
   "source": [
    "Using the CSV file of flowers again, fill in the gaps of the contents_of_file function to process the data without turning it into a dictionary. How do you skip over the header record with the field names?"
   ]
  },
  {
   "cell_type": "code",
   "execution_count": 90,
   "id": "471241c1-2573-4b79-99fe-5951804b3bac",
   "metadata": {},
   "outputs": [
    {
     "name": "stdout",
     "output_type": "stream",
     "text": [
      "a pink carnation is annual\n",
      "a yellow daffodil is perennial\n",
      "a blue iris is perennial\n",
      "a red poinsettia is perennial\n",
      "a yellow sunflower is annual\n",
      "\n"
     ]
    }
   ],
   "source": [
    "import os\n",
    "import csv\n",
    "\n",
    "# Create a file with data in it\n",
    "def create_file(filename):\n",
    "  with open(filename, \"w\") as file:\n",
    "    file.write(\"name,color,type\\n\")\n",
    "    file.write(\"carnation,pink,annual\\n\")\n",
    "    file.write(\"daffodil,yellow,perennial\\n\")\n",
    "    file.write(\"iris,blue,perennial\\n\")\n",
    "    file.write(\"poinsettia,red,perennial\\n\")\n",
    "    file.write(\"sunflower,yellow,annual\\n\")\n",
    "\n",
    "# Read the file contents and format the information about each row\n",
    "def contents_of_file(filename):\n",
    "  return_string = \"\"\n",
    "\n",
    "  # Call the function to create the file \n",
    "  create_file(filename)\n",
    "\n",
    "  # Open the file\n",
    "  with open(filename) as file:\n",
    "    # Read the rows of the file\n",
    "    rows = csv.reader(file)\n",
    "    next(rows)\n",
    "    # Process each row\n",
    "    for row in rows:\n",
    "      a,b,c = row\n",
    "      # Format the return string for data rows only\n",
    "\n",
    "      return_string += \"a {} {} is {}\\n\".format(b,a,c)\n",
    "  return return_string\n",
    "\n",
    "#Call the function\n",
    "print(contents_of_file(\"flowers.csv\"))"
   ]
  },
  {
   "cell_type": "code",
   "execution_count": null,
   "id": "4e698171-b3f7-4a6f-969a-d3e38e7a84a2",
   "metadata": {},
   "outputs": [],
   "source": []
  }
 ],
 "metadata": {
  "kernelspec": {
   "display_name": "Python 3 (ipykernel)",
   "language": "python",
   "name": "python3"
  },
  "language_info": {
   "codemirror_mode": {
    "name": "ipython",
    "version": 3
   },
   "file_extension": ".py",
   "mimetype": "text/x-python",
   "name": "python",
   "nbconvert_exporter": "python",
   "pygments_lexer": "ipython3",
   "version": "3.11.1"
  }
 },
 "nbformat": 4,
 "nbformat_minor": 5
}
