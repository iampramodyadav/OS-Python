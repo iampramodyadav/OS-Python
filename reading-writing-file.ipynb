{
 "cells": [
  {
   "cell_type": "markdown",
   "id": "fa01b459-3003-4c7b-b695-5f146eeea9a6",
   "metadata": {},
   "source": [
    "# Reading and writing"
   ]
  },
  {
   "cell_type": "markdown",
   "id": "47c166cb-5b93-4c7c-8538-0ff7658e6173",
   "metadata": {},
   "source": [
    "## Reading file"
   ]
  },
  {
   "cell_type": "code",
   "execution_count": 1,
   "id": "e2aa32d6-624a-40e6-9747-d86213506ba2",
   "metadata": {},
   "outputs": [
    {
     "name": "stdout",
     "output_type": "stream",
     "text": [
      "The itsy bitsy spider climbed up the waterspout.\n",
      "\n"
     ]
    }
   ],
   "source": [
    "file = open(\"spider.txt\")\n",
    "print(file.readline())"
   ]
  },
  {
   "cell_type": "code",
   "execution_count": 2,
   "id": "b33c6063-1c04-4a60-b807-118927e8ff76",
   "metadata": {},
   "outputs": [
    {
     "name": "stdout",
     "output_type": "stream",
     "text": [
      "Down came the rain\n",
      "\n"
     ]
    }
   ],
   "source": [
    "print(file.readline())"
   ]
  },
  {
   "cell_type": "code",
   "execution_count": 3,
   "id": "0f3ab01e-de4c-4c0c-bee9-6cef6527f6c9",
   "metadata": {},
   "outputs": [
    {
     "name": "stdout",
     "output_type": "stream",
     "text": [
      "and washed the spider out.\n",
      "Out came the sun\n",
      "and dried up all the rain\n",
      "and the itsy bitsy spider climbed up the spout again.\n"
     ]
    }
   ],
   "source": [
    "print(file.read())"
   ]
  },
  {
   "cell_type": "code",
   "execution_count": 4,
   "id": "b5a4cae4-ca44-4282-9773-f92dda74ed5f",
   "metadata": {},
   "outputs": [],
   "source": [
    "file.close()"
   ]
  },
  {
   "cell_type": "markdown",
   "id": "af68dee4-73eb-4f0a-a0f9-6b969519fdf0",
   "metadata": {},
   "source": [
    "These lines print the first three lines of the file. The `readline()` method reads one line from the file and returns it as a string. The `read()` method reads the entire file and returns it as a string. The `close()` method closes the file."
   ]
  },
  {
   "cell_type": "code",
   "execution_count": null,
   "id": "16626472-c7f5-4bc0-8776-49dd9706bffe",
   "metadata": {},
   "outputs": [],
   "source": []
  },
  {
   "cell_type": "code",
   "execution_count": 6,
   "id": "724ebde4-d7c6-4df8-bcad-6142e93e48c7",
   "metadata": {},
   "outputs": [
    {
     "name": "stdout",
     "output_type": "stream",
     "text": [
      "The itsy bitsy spider climbed up the waterspout.\n",
      "\n"
     ]
    }
   ],
   "source": [
    "with open(\"spider.txt\") as file:\n",
    "    print(file.readline())"
   ]
  },
  {
   "cell_type": "markdown",
   "id": "d16df258-b174-4c2d-a610-31c6293d4495",
   "metadata": {},
   "source": [
    "Finally, the line that uses the `with` statement to open the file `spider.txt` is in read mode. The as keyword assigns the file object to the variable `file`. The code block inside the `with` statement will be executed, and then the file will be **closed automatically.**"
   ]
  },
  {
   "cell_type": "code",
   "execution_count": null,
   "id": "08d09e5a-49d7-43fe-be43-b35e0b0c9da6",
   "metadata": {},
   "outputs": [],
   "source": []
  },
  {
   "cell_type": "markdown",
   "id": "39105f58-eede-4ccf-bf5e-f75fb08a3b39",
   "metadata": {},
   "source": [
    "## Iterating through files"
   ]
  },
  {
   "cell_type": "code",
   "execution_count": 7,
   "id": "48d2aa38-0df3-4666-bf06-47287fb08871",
   "metadata": {},
   "outputs": [
    {
     "name": "stdout",
     "output_type": "stream",
     "text": [
      "THE ITSY BITSY SPIDER CLIMBED UP THE WATERSPOUT.\n",
      "\n",
      "DOWN CAME THE RAIN\n",
      "\n",
      "AND WASHED THE SPIDER OUT.\n",
      "\n",
      "OUT CAME THE SUN\n",
      "\n",
      "AND DRIED UP ALL THE RAIN\n",
      "\n",
      "AND THE ITSY BITSY SPIDER CLIMBED UP THE SPOUT AGAIN.\n"
     ]
    }
   ],
   "source": [
    "with open(\"spider.txt\") as file:\n",
    "    for line in file:\n",
    "        print(line.upper())"
   ]
  },
  {
   "cell_type": "code",
   "execution_count": null,
   "id": "48412822-260d-47fb-825f-57b234c866ed",
   "metadata": {},
   "outputs": [],
   "source": []
  },
  {
   "cell_type": "markdown",
   "id": "f50c5886-12f7-4e37-a3ad-b498b8194496",
   "metadata": {},
   "source": [
    "Here there are spaces between the lines in the output. This is because there is a new line character at the end of each line. "
   ]
  },
  {
   "cell_type": "code",
   "execution_count": 8,
   "id": "fc51fb80-e95b-42bb-8f25-dc7919436130",
   "metadata": {},
   "outputs": [
    {
     "name": "stdout",
     "output_type": "stream",
     "text": [
      "THE ITSY BITSY SPIDER CLIMBED UP THE WATERSPOUT.\n",
      "DOWN CAME THE RAIN\n",
      "AND WASHED THE SPIDER OUT.\n",
      "OUT CAME THE SUN\n",
      "AND DRIED UP ALL THE RAIN\n",
      "AND THE ITSY BITSY SPIDER CLIMBED UP THE SPOUT AGAIN.\n"
     ]
    }
   ],
   "source": [
    "with open(\"spider.txt\") as file:\n",
    "    for line in file:\n",
    "        print(line.strip().upper())"
   ]
  },
  {
   "cell_type": "markdown",
   "id": "28ec3a8d-9f2e-4041-b43c-647897f13453",
   "metadata": {},
   "source": [
    "Here strip is used to remove the newline character, and we get the output without empty lines."
   ]
  },
  {
   "cell_type": "code",
   "execution_count": 9,
   "id": "f74b3e70-77ec-481e-9db2-050cb6a57dc4",
   "metadata": {},
   "outputs": [
    {
     "name": "stdout",
     "output_type": "stream",
     "text": [
      "['Down came the rain\\n', 'Out came the sun\\n', 'The itsy bitsy spider climbed up the waterspout.\\n', 'and dried up all the rain\\n', 'and the itsy bitsy spider climbed up the spout again.', 'and washed the spider out.\\n']\n"
     ]
    }
   ],
   "source": [
    "file = open(\"spider.txt\")\n",
    "lines = file.readlines()\n",
    "file.close()\n",
    "lines.sort()\n",
    "print(lines)"
   ]
  },
  {
   "cell_type": "markdown",
   "id": "9803372f-d43f-401b-9914-3aa8eddbb206",
   "metadata": {},
   "source": [
    "the lines have been sorted alphabetically, so they're no longer in the order that they were in the file. We can see that Python displays a newline character using \"\\n\" symbol when printing a list of strings. "
   ]
  },
  {
   "cell_type": "markdown",
   "id": "9caa3310-8724-4415-8620-a71e57789b1c",
   "metadata": {},
   "source": [
    "## Writing files"
   ]
  },
  {
   "cell_type": "code",
   "execution_count": 1,
   "id": "c0a656c0-005f-459d-b8d5-cee2e3f966a8",
   "metadata": {},
   "outputs": [],
   "source": [
    "with open(\"novel.txt\", \"w\") as file:\n",
    "    file.write(\"It was a dark and stormy night\")"
   ]
  },
  {
   "cell_type": "markdown",
   "id": "5a709b9d-9097-4d5f-9624-77365c7f833f",
   "metadata": {},
   "source": [
    "The with `open()` statement creates a file object and assigns it to the variable file. The `open()` function takes two arguments: the name of the file and the mode. In this case, the mode is `w`, which means \"write\". This tells the `open()` function to create a new file if it doesn't exist, or to overwrite the existing file if it does exist."
   ]
  },
  {
   "cell_type": "markdown",
   "id": "dcff6a14-8bab-4366-8f74-523610f90e57",
   "metadata": {},
   "source": [
    "| Character | Meaning                                                         |\n",
    "|-----------|-----------------------------------------------------------------|\n",
    "| 'r'       | open for reading (default)                                      |\n",
    "| 'w'       | open for writing, truncating the file first                     |\n",
    "| 'x'       | open for exclusive creation, failing if the file already exists |\n",
    "| 'a'       | open for writing, appending to the end of file if it exists     |\n",
    "| 'b'       | binary mode                                                     |\n",
    "| 't'       | text mode (default)                                             |\n",
    "| '+'       | open for updating (reading and writing)                         |"
   ]
  },
  {
   "cell_type": "markdown",
   "id": "22d9d9e4-aa27-4c1f-9163-9b47f54c6008",
   "metadata": {},
   "source": [
    "There are 6 access modes in Python:\n",
    "\n",
    "- Read Only (`r`)\n",
    "- Read and Write (`r+`)\n",
    "- Write Only (`w`)\n",
    "- Write and Read (`w+`)\n",
    "- Append Only (`a`)\n",
    "- Append and Read (`a+`)"
   ]
  },
  {
   "cell_type": "markdown",
   "id": "1a9be06e-d204-4150-ac4f-5ecfa9c2f7a4",
   "metadata": {},
   "source": []
  },
  {
   "cell_type": "markdown",
   "id": "021b6531-71c9-45c8-81d8-78eab15961fa",
   "metadata": {},
   "source": [
    "```python\n",
    "with open(\"sample_data/declaration.txt\", \"rt\") as textfile:\n",
    " for line in textfile:\n",
    "   print(line)\n",
    "\n",
    "```\n",
    "In this example, the first argument is a string containing the filename (sample_data/declaration.txt). The second argument identifies the mode or the way in which the file will be used (rt).\n",
    "\n",
    "```python\n",
    "f = open(\"sample_data/declaration.txt\", “w”)\n",
    "```\n",
    "In this example, the code tells Python to open this file for writing (“w” mode). "
   ]
  },
  {
   "cell_type": "markdown",
   "id": "a501d78c-ae84-4da2-88b8-aac8c28ef961",
   "metadata": {},
   "source": [
    "**Encoding**\n",
    "\n",
    "Python distinguishes between binary mode (“b”) and text mode (“t”). By default, files are opened in the text mode, which means you read and write strings from and to the file, which are encoded in a specific encoding. If encoding is not specified, the default is platform-dependent. This means that locale.getencoding() is called to get the current locale encoding. If you need to open the text in a specific encoding, you must specify it.\n",
    "\n",
    "```python\n",
    "f = open('workfile', 'w', encoding=\"utf-8\")\n",
    "```\n",
    "In this example, the encoding=“utf-8” specifies that the file should be opened with UTF-8, the modern de facto standard. Binary mode data is read and written as bytes objects. You cannot specify encoding when opening a file in binary mode."
   ]
  },
  {
   "cell_type": "markdown",
   "id": "db94ed26-1f2b-4810-b055-a53c4ffcdb57",
   "metadata": {},
   "source": [
    "## How to write file paths in code"
   ]
  },
  {
   "cell_type": "markdown",
   "id": "a867b5ba-b365-4d12-98ef-28d0beb183fc",
   "metadata": {},
   "source": [
    "Windows file directory\n",
    "\n",
    "```\n",
    "C:\\my-directory\\target-file.txt\n",
    "```\n",
    "\n",
    "Windows file directory written in Python\n",
    "\n",
    "```\n",
    "C:/my-directory/target-file.txt.\n",
    "```\n",
    "\n",
    "Windows file directory\n",
    "\n",
    "```\n",
    "C:\\\\my-directory\\\\target-file.txt\n",
    "```\n",
    "\n",
    "CWD command: \n",
    "```\n",
    "os.getcwd()\n",
    "```\n",
    "\n",
    "CWD command for external files:\n",
    "\n",
    "```\n",
    "outputs['current_directory_before'] = os.getcwd()\n",
    "```"
   ]
  },
  {
   "cell_type": "code",
   "execution_count": 2,
   "id": "7d35f8a4-7400-49cb-9178-e6934322118c",
   "metadata": {},
   "outputs": [
    {
     "data": {
      "text/plain": [
       "'C:\\\\Users\\\\Asus\\\\Desktop\\\\GitHUb\\\\OS-Python'"
      ]
     },
     "execution_count": 2,
     "metadata": {},
     "output_type": "execute_result"
    }
   ],
   "source": [
    "import os\n",
    "os.getcwd()"
   ]
  },
  {
   "cell_type": "code",
   "execution_count": 11,
   "id": "8807e4f1-a701-4c88-9307-44fdca015ef4",
   "metadata": {},
   "outputs": [],
   "source": [
    "outputs = {}"
   ]
  },
  {
   "cell_type": "code",
   "execution_count": 12,
   "id": "6c9970a7-f8e0-4030-b588-e9228b6557c1",
   "metadata": {},
   "outputs": [],
   "source": [
    "outputs['current_directory_before'] = os.getcwd()"
   ]
  },
  {
   "cell_type": "code",
   "execution_count": 13,
   "id": "bf6b14ad-53a0-4134-9c44-c3ef3039d85f",
   "metadata": {},
   "outputs": [],
   "source": [
    "outputs['files_and_directories'] = os. listdir()"
   ]
  },
  {
   "cell_type": "code",
   "execution_count": 16,
   "id": "c89a5734-1ae9-4825-9432-30cf23f34435",
   "metadata": {},
   "outputs": [],
   "source": [
    "outputs['path_value'] = os.environ.get ('PATH' )"
   ]
  },
  {
   "cell_type": "code",
   "execution_count": 17,
   "id": "d4935518-94de-4046-8923-80cc5a68b1a5",
   "metadata": {},
   "outputs": [
    {
     "data": {
      "text/plain": [
       "{'current_directory_before': 'C:\\\\Users\\\\Asus\\\\Desktop\\\\GitHUb\\\\OS-Python',\n",
       " 'files_and_directories': ['.git',\n",
       "  '.ipynb_checkpoints',\n",
       "  'novel.txt',\n",
       "  'reading-writing-file.ipynb',\n",
       "  'README.md',\n",
       "  'spider.txt'],\n",
       " 'path_value': 'C:\\\\SIMULIA\\\\Commands;C:\\\\Program Files\\\\Microsoft MPI\\\\Bin\\\\;C:\\\\Windows\\\\system32;C:\\\\Windows;C:\\\\Windows\\\\System32\\\\Wbem;C:\\\\Windows\\\\System32\\\\WindowsPowerShell\\\\v1.0\\\\;C:\\\\Windows\\\\System32\\\\OpenSSH\\\\;C:\\\\Program Files\\\\Polyspace\\\\R2021a\\\\runtime\\\\win64;C:\\\\Program Files\\\\Polyspace\\\\R2021a\\\\bin;C:\\\\Program Files\\\\Microsoft SQL Server\\\\150\\\\Tools\\\\Binn\\\\;C:\\\\Program Files\\\\Git\\\\cmd;C:\\\\Program Files\\\\dotnet\\\\;C:\\\\Users\\\\Asus\\\\AppData\\\\Local\\\\Programs\\\\Python\\\\Python311\\\\Scripts\\\\;C:\\\\Users\\\\Asus\\\\AppData\\\\Local\\\\Programs\\\\Python\\\\Python311\\\\;C:\\\\Users\\\\Asus\\\\AppData\\\\Local\\\\Microsoft\\\\WindowsApps;;C:\\\\Users\\\\Asus\\\\AppData\\\\Local\\\\Programs\\\\Microsoft VS Code\\\\bin'}"
      ]
     },
     "execution_count": 17,
     "metadata": {},
     "output_type": "execute_result"
    }
   ],
   "source": [
    "outputs"
   ]
  },
  {
   "cell_type": "code",
   "execution_count": null,
   "id": "ee5a67ba-bead-4026-a0de-06b38f9668f4",
   "metadata": {},
   "outputs": [],
   "source": []
  },
  {
   "cell_type": "markdown",
   "id": "f2dd27aa-7682-4fa6-b18e-183a7045a0b5",
   "metadata": {},
   "source": [
    "## Working with files"
   ]
  },
  {
   "cell_type": "code",
   "execution_count": 19,
   "id": "a7031ec1-8bbc-4322-bfe2-2af5670ee1d2",
   "metadata": {},
   "outputs": [],
   "source": [
    "import os\n",
    "os.remove(\"novel.txt\")"
   ]
  },
  {
   "cell_type": "markdown",
   "id": "6787f84a-0c90-4f19-9d69-09f3b1f69e72",
   "metadata": {},
   "source": [
    "This code removes the file novel.txt"
   ]
  },
  {
   "cell_type": "code",
   "execution_count": 20,
   "id": "ab6787bc-83ff-446a-bb2e-c68df5546b6b",
   "metadata": {},
   "outputs": [
    {
     "ename": "FileNotFoundError",
     "evalue": "[WinError 2] The system cannot find the file specified: 'novel.txt'",
     "output_type": "error",
     "traceback": [
      "\u001b[1;31m---------------------------------------------------------------------------\u001b[0m",
      "\u001b[1;31mFileNotFoundError\u001b[0m                         Traceback (most recent call last)",
      "Cell \u001b[1;32mIn[20], line 2\u001b[0m\n\u001b[0;32m      1\u001b[0m \u001b[38;5;28;01mimport\u001b[39;00m \u001b[38;5;21;01mos\u001b[39;00m\n\u001b[1;32m----> 2\u001b[0m \u001b[43mos\u001b[49m\u001b[38;5;241;43m.\u001b[39;49m\u001b[43mremove\u001b[49m\u001b[43m(\u001b[49m\u001b[38;5;124;43m\"\u001b[39;49m\u001b[38;5;124;43mnovel.txt\u001b[39;49m\u001b[38;5;124;43m\"\u001b[39;49m\u001b[43m)\u001b[49m\n",
      "\u001b[1;31mFileNotFoundError\u001b[0m: [WinError 2] The system cannot find the file specified: 'novel.txt'"
     ]
    }
   ],
   "source": [
    "import os\n",
    "os.remove(\"novel.txt\")"
   ]
  },
  {
   "cell_type": "markdown",
   "id": "ab0002c1-1780-445f-a9ca-20556fb75169",
   "metadata": {},
   "source": [
    "This code will throw a file not found error. You cannot remove a file that doesn’t exist."
   ]
  },
  {
   "cell_type": "markdown",
   "id": "825bb7ea-ab44-4b52-8ec8-004b46bc4f9a",
   "metadata": {},
   "source": [
    "```python\n",
    "os.rename(\"first_draft.txt\", \"finished_masterpiece.txt\")\n",
    "```\n",
    "This code can be used to rename a file. "
   ]
  },
  {
   "cell_type": "code",
   "execution_count": 28,
   "id": "bfb932eb-4d4f-4b3e-9e61-125626986b8a",
   "metadata": {},
   "outputs": [
    {
     "data": {
      "text/plain": [
       "True"
      ]
     },
     "execution_count": 28,
     "metadata": {},
     "output_type": "execute_result"
    }
   ],
   "source": [
    "os.path.exists(\"README.md\")"
   ]
  },
  {
   "cell_type": "code",
   "execution_count": 29,
   "id": "c75f046f-6f79-4951-a826-6797e9cff9f3",
   "metadata": {},
   "outputs": [
    {
     "data": {
      "text/plain": [
       "False"
      ]
     },
     "execution_count": 29,
     "metadata": {},
     "output_type": "execute_result"
    }
   ],
   "source": [
    "os.path.exists(\"userlist.txt\")"
   ]
  },
  {
   "cell_type": "markdown",
   "id": "8d4687d9-f66d-40e0-99b2-ba8dfc716adb",
   "metadata": {},
   "source": [
    "This code checks whether or not a file exists. If the file exists it will return True. If the file does not exist it will return False."
   ]
  },
  {
   "cell_type": "markdown",
   "id": "72e6eba2-a8a5-4250-9a58-0287030d9431",
   "metadata": {},
   "source": [
    "## More file information"
   ]
  },
  {
   "cell_type": "markdown",
   "id": "2ee3fcc0-a631-41e6-8c71-60b08a0574d6",
   "metadata": {},
   "source": []
  },
  {
   "cell_type": "code",
   "execution_count": null,
   "id": "5b166b2a-448e-4b2b-a8d9-14b57ebcca78",
   "metadata": {},
   "outputs": [],
   "source": []
  },
  {
   "cell_type": "code",
   "execution_count": null,
   "id": "bafe6375-911e-4497-86d5-cf385e9dc147",
   "metadata": {},
   "outputs": [],
   "source": []
  },
  {
   "cell_type": "code",
   "execution_count": null,
   "id": "27a4a671-72ae-47e5-ad58-057a5e99fa90",
   "metadata": {},
   "outputs": [],
   "source": []
  }
 ],
 "metadata": {
  "kernelspec": {
   "display_name": "Python 3 (ipykernel)",
   "language": "python",
   "name": "python3"
  },
  "language_info": {
   "codemirror_mode": {
    "name": "ipython",
    "version": 3
   },
   "file_extension": ".py",
   "mimetype": "text/x-python",
   "name": "python",
   "nbconvert_exporter": "python",
   "pygments_lexer": "ipython3",
   "version": "3.11.1"
  }
 },
 "nbformat": 4,
 "nbformat_minor": 5
}
