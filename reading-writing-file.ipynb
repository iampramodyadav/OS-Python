{
 "cells": [
  {
   "cell_type": "markdown",
   "id": "47c166cb-5b93-4c7c-8538-0ff7658e6173",
   "metadata": {},
   "source": [
    "## Reading file"
   ]
  },
  {
   "cell_type": "code",
   "execution_count": 1,
   "id": "e2aa32d6-624a-40e6-9747-d86213506ba2",
   "metadata": {},
   "outputs": [
    {
     "name": "stdout",
     "output_type": "stream",
     "text": [
      "The itsy bitsy spider climbed up the waterspout.\n",
      "\n"
     ]
    }
   ],
   "source": [
    "file = open(\"spider.txt\")\n",
    "print(file.readline())"
   ]
  },
  {
   "cell_type": "code",
   "execution_count": 2,
   "id": "b33c6063-1c04-4a60-b807-118927e8ff76",
   "metadata": {},
   "outputs": [
    {
     "name": "stdout",
     "output_type": "stream",
     "text": [
      "Down came the rain\n",
      "\n"
     ]
    }
   ],
   "source": [
    "print(file.readline())"
   ]
  },
  {
   "cell_type": "code",
   "execution_count": 3,
   "id": "0f3ab01e-de4c-4c0c-bee9-6cef6527f6c9",
   "metadata": {},
   "outputs": [
    {
     "name": "stdout",
     "output_type": "stream",
     "text": [
      "and washed the spider out.\n",
      "Out came the sun\n",
      "and dried up all the rain\n",
      "and the itsy bitsy spider climbed up the spout again.\n"
     ]
    }
   ],
   "source": [
    "print(file.read())"
   ]
  },
  {
   "cell_type": "code",
   "execution_count": 4,
   "id": "b5a4cae4-ca44-4282-9773-f92dda74ed5f",
   "metadata": {},
   "outputs": [],
   "source": [
    "file.close()"
   ]
  },
  {
   "cell_type": "markdown",
   "id": "af68dee4-73eb-4f0a-a0f9-6b969519fdf0",
   "metadata": {},
   "source": [
    "These lines print the first three lines of the file. The `readline()` method reads one line from the file and returns it as a string. The `read()` method reads the entire file and returns it as a string. The `close()` method closes the file."
   ]
  },
  {
   "cell_type": "code",
   "execution_count": null,
   "id": "16626472-c7f5-4bc0-8776-49dd9706bffe",
   "metadata": {},
   "outputs": [],
   "source": []
  },
  {
   "cell_type": "code",
   "execution_count": 6,
   "id": "724ebde4-d7c6-4df8-bcad-6142e93e48c7",
   "metadata": {},
   "outputs": [
    {
     "name": "stdout",
     "output_type": "stream",
     "text": [
      "The itsy bitsy spider climbed up the waterspout.\n",
      "\n"
     ]
    }
   ],
   "source": [
    "with open(\"spider.txt\") as file:\n",
    "    print(file.readline())"
   ]
  },
  {
   "cell_type": "markdown",
   "id": "d16df258-b174-4c2d-a610-31c6293d4495",
   "metadata": {},
   "source": [
    "Finally, the line that uses the `with` statement to open the file `spider.txt` is in read mode. The as keyword assigns the file object to the variable `file`. The code block inside the `with` statement will be executed, and then the file will be **closed automatically.**"
   ]
  },
  {
   "cell_type": "code",
   "execution_count": null,
   "id": "08d09e5a-49d7-43fe-be43-b35e0b0c9da6",
   "metadata": {},
   "outputs": [],
   "source": []
  },
  {
   "cell_type": "markdown",
   "id": "39105f58-eede-4ccf-bf5e-f75fb08a3b39",
   "metadata": {},
   "source": [
    "## Iterating through files"
   ]
  },
  {
   "cell_type": "code",
   "execution_count": 7,
   "id": "48d2aa38-0df3-4666-bf06-47287fb08871",
   "metadata": {},
   "outputs": [
    {
     "name": "stdout",
     "output_type": "stream",
     "text": [
      "THE ITSY BITSY SPIDER CLIMBED UP THE WATERSPOUT.\n",
      "\n",
      "DOWN CAME THE RAIN\n",
      "\n",
      "AND WASHED THE SPIDER OUT.\n",
      "\n",
      "OUT CAME THE SUN\n",
      "\n",
      "AND DRIED UP ALL THE RAIN\n",
      "\n",
      "AND THE ITSY BITSY SPIDER CLIMBED UP THE SPOUT AGAIN.\n"
     ]
    }
   ],
   "source": [
    "with open(\"spider.txt\") as file:\n",
    "    for line in file:\n",
    "        print(line.upper())"
   ]
  },
  {
   "cell_type": "code",
   "execution_count": null,
   "id": "48412822-260d-47fb-825f-57b234c866ed",
   "metadata": {},
   "outputs": [],
   "source": []
  },
  {
   "cell_type": "markdown",
   "id": "f50c5886-12f7-4e37-a3ad-b498b8194496",
   "metadata": {},
   "source": [
    "Here there are spaces between the lines in the output. This is because there is a new line character at the end of each line. "
   ]
  },
  {
   "cell_type": "code",
   "execution_count": 8,
   "id": "fc51fb80-e95b-42bb-8f25-dc7919436130",
   "metadata": {},
   "outputs": [
    {
     "name": "stdout",
     "output_type": "stream",
     "text": [
      "THE ITSY BITSY SPIDER CLIMBED UP THE WATERSPOUT.\n",
      "DOWN CAME THE RAIN\n",
      "AND WASHED THE SPIDER OUT.\n",
      "OUT CAME THE SUN\n",
      "AND DRIED UP ALL THE RAIN\n",
      "AND THE ITSY BITSY SPIDER CLIMBED UP THE SPOUT AGAIN.\n"
     ]
    }
   ],
   "source": [
    "with open(\"spider.txt\") as file:\n",
    "    for line in file:\n",
    "        print(line.strip().upper())"
   ]
  },
  {
   "cell_type": "markdown",
   "id": "28ec3a8d-9f2e-4041-b43c-647897f13453",
   "metadata": {},
   "source": [
    "Here strip is used to remove the newline character, and we get the output without empty lines."
   ]
  },
  {
   "cell_type": "code",
   "execution_count": 9,
   "id": "f74b3e70-77ec-481e-9db2-050cb6a57dc4",
   "metadata": {},
   "outputs": [
    {
     "name": "stdout",
     "output_type": "stream",
     "text": [
      "['Down came the rain\\n', 'Out came the sun\\n', 'The itsy bitsy spider climbed up the waterspout.\\n', 'and dried up all the rain\\n', 'and the itsy bitsy spider climbed up the spout again.', 'and washed the spider out.\\n']\n"
     ]
    }
   ],
   "source": [
    "file = open(\"spider.txt\")\n",
    "lines = file.readlines()\n",
    "file.close()\n",
    "lines.sort()\n",
    "print(lines)"
   ]
  },
  {
   "cell_type": "markdown",
   "id": "9803372f-d43f-401b-9914-3aa8eddbb206",
   "metadata": {},
   "source": [
    "the lines have been sorted alphabetically, so they're no longer in the order that they were in the file. We can see that Python displays a newline character using \"\\n\" symbol when printing a list of strings. "
   ]
  },
  {
   "cell_type": "markdown",
   "id": "9caa3310-8724-4415-8620-a71e57789b1c",
   "metadata": {},
   "source": [
    "## Writing files"
   ]
  },
  {
   "cell_type": "code",
   "execution_count": 1,
   "id": "c0a656c0-005f-459d-b8d5-cee2e3f966a8",
   "metadata": {},
   "outputs": [],
   "source": [
    "with open(\"novel.txt\", \"w\") as file:\n",
    "    file.write(\"It was a dark and stormy night\")"
   ]
  },
  {
   "cell_type": "markdown",
   "id": "5a709b9d-9097-4d5f-9624-77365c7f833f",
   "metadata": {},
   "source": [
    "The with `open()` statement creates a file object and assigns it to the variable file. The `open()` function takes two arguments: the name of the file and the mode. In this case, the mode is `w`, which means \"write\". This tells the `open()` function to create a new file if it doesn't exist, or to overwrite the existing file if it does exist."
   ]
  },
  {
   "cell_type": "markdown",
   "id": "dcff6a14-8bab-4366-8f74-523610f90e57",
   "metadata": {},
   "source": [
    "| Character | Meaning                                                         |\n",
    "|-----------|-----------------------------------------------------------------|\n",
    "| 'r'       | open for reading (default)                                      |\n",
    "| 'w'       | open for writing, truncating the file first                     |\n",
    "| 'x'       | open for exclusive creation, failing if the file already exists |\n",
    "| 'a'       | open for writing, appending to the end of file if it exists     |\n",
    "| 'b'       | binary mode                                                     |\n",
    "| 't'       | text mode (default)                                             |\n",
    "| '+'       | open for updating (reading and writing)                         |"
   ]
  },
  {
   "cell_type": "markdown",
   "id": "22d9d9e4-aa27-4c1f-9163-9b47f54c6008",
   "metadata": {},
   "source": [
    "There are 6 access modes in Python:\n",
    "\n",
    "- Read Only (`r`)\n",
    "- Read and Write (`r+`)\n",
    "- Write Only (`w`)\n",
    "- Write and Read (`w+`)\n",
    "- Append Only (`a`)\n",
    "- Append and Read (`a+`)"
   ]
  },
  {
   "cell_type": "markdown",
   "id": "1a9be06e-d204-4150-ac4f-5ecfa9c2f7a4",
   "metadata": {},
   "source": []
  },
  {
   "cell_type": "markdown",
   "id": "021b6531-71c9-45c8-81d8-78eab15961fa",
   "metadata": {},
   "source": [
    "```python\n",
    "with open(\"sample_data/declaration.txt\", \"rt\") as textfile:\n",
    " for line in textfile:\n",
    "   print(line)\n",
    "\n",
    "```\n",
    "In this example, the first argument is a string containing the filename (sample_data/declaration.txt). The second argument identifies the mode or the way in which the file will be used (rt).\n",
    "\n",
    "```python\n",
    "f = open(\"sample_data/declaration.txt\", “w”)\n",
    "```\n",
    "In this example, the code tells Python to open this file for writing (“w” mode). "
   ]
  },
  {
   "cell_type": "markdown",
   "id": "a501d78c-ae84-4da2-88b8-aac8c28ef961",
   "metadata": {},
   "source": [
    "**Encoding**\n",
    "\n",
    "Python distinguishes between binary mode (“b”) and text mode (“t”). By default, files are opened in the text mode, which means you read and write strings from and to the file, which are encoded in a specific encoding. If encoding is not specified, the default is platform-dependent. This means that locale.getencoding() is called to get the current locale encoding. If you need to open the text in a specific encoding, you must specify it.\n",
    "\n",
    "```python\n",
    "f = open('workfile', 'w', encoding=\"utf-8\")\n",
    "```\n",
    "In this example, the encoding=“utf-8” specifies that the file should be opened with UTF-8, the modern de facto standard. Binary mode data is read and written as bytes objects. You cannot specify encoding when opening a file in binary mode."
   ]
  },
  {
   "cell_type": "code",
   "execution_count": null,
   "id": "b413a385-0179-4498-9e33-853dc650e9d5",
   "metadata": {},
   "outputs": [],
   "source": []
  },
  {
   "cell_type": "code",
   "execution_count": null,
   "id": "1f004f6e-49a4-4c5b-9c33-fa9732615ddf",
   "metadata": {},
   "outputs": [],
   "source": []
  },
  {
   "cell_type": "code",
   "execution_count": null,
   "id": "7d35f8a4-7400-49cb-9178-e6934322118c",
   "metadata": {},
   "outputs": [],
   "source": []
  }
 ],
 "metadata": {
  "kernelspec": {
   "display_name": "Python 3 (ipykernel)",
   "language": "python",
   "name": "python3"
  },
  "language_info": {
   "codemirror_mode": {
    "name": "ipython",
    "version": 3
   },
   "file_extension": ".py",
   "mimetype": "text/x-python",
   "name": "python",
   "nbconvert_exporter": "python",
   "pygments_lexer": "ipython3",
   "version": "3.11.1"
  }
 },
 "nbformat": 4,
 "nbformat_minor": 5
}
