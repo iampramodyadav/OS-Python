{
 "cells": [
  {
   "cell_type": "markdown",
   "id": "47c166cb-5b93-4c7c-8538-0ff7658e6173",
   "metadata": {},
   "source": [
    "## Reading file"
   ]
  },
  {
   "cell_type": "code",
   "execution_count": 1,
   "id": "e2aa32d6-624a-40e6-9747-d86213506ba2",
   "metadata": {},
   "outputs": [
    {
     "name": "stdout",
     "output_type": "stream",
     "text": [
      "The itsy bitsy spider climbed up the waterspout.\n",
      "\n"
     ]
    }
   ],
   "source": [
    "file = open(\"spider.txt\")\n",
    "print(file.readline())"
   ]
  },
  {
   "cell_type": "code",
   "execution_count": 2,
   "id": "b33c6063-1c04-4a60-b807-118927e8ff76",
   "metadata": {},
   "outputs": [
    {
     "name": "stdout",
     "output_type": "stream",
     "text": [
      "Down came the rain\n",
      "\n"
     ]
    }
   ],
   "source": [
    "print(file.readline())"
   ]
  },
  {
   "cell_type": "code",
   "execution_count": 3,
   "id": "0f3ab01e-de4c-4c0c-bee9-6cef6527f6c9",
   "metadata": {},
   "outputs": [
    {
     "name": "stdout",
     "output_type": "stream",
     "text": [
      "and washed the spider out.\n",
      "Out came the sun\n",
      "and dried up all the rain\n",
      "and the itsy bitsy spider climbed up the spout again.\n"
     ]
    }
   ],
   "source": [
    "print(file.read())"
   ]
  },
  {
   "cell_type": "code",
   "execution_count": 4,
   "id": "b5a4cae4-ca44-4282-9773-f92dda74ed5f",
   "metadata": {},
   "outputs": [],
   "source": [
    "file.close()"
   ]
  },
  {
   "cell_type": "markdown",
   "id": "af68dee4-73eb-4f0a-a0f9-6b969519fdf0",
   "metadata": {},
   "source": [
    "These lines print the first three lines of the file. The `readline()` method reads one line from the file and returns it as a string. The `read()` method reads the entire file and returns it as a string. The `close()` method closes the file."
   ]
  },
  {
   "cell_type": "code",
   "execution_count": null,
   "id": "16626472-c7f5-4bc0-8776-49dd9706bffe",
   "metadata": {},
   "outputs": [],
   "source": []
  },
  {
   "cell_type": "code",
   "execution_count": 6,
   "id": "724ebde4-d7c6-4df8-bcad-6142e93e48c7",
   "metadata": {},
   "outputs": [
    {
     "name": "stdout",
     "output_type": "stream",
     "text": [
      "The itsy bitsy spider climbed up the waterspout.\n",
      "\n"
     ]
    }
   ],
   "source": [
    "with open(\"spider.txt\") as file:\n",
    "    print(file.readline())"
   ]
  },
  {
   "cell_type": "markdown",
   "id": "d16df258-b174-4c2d-a610-31c6293d4495",
   "metadata": {},
   "source": [
    "Finally, the line that uses the `with` statement to open the file `spider.txt` is in read mode. The as keyword assigns the file object to the variable `file`. The code block inside the `with` statement will be executed, and then the file will be **closed automatically.**"
   ]
  },
  {
   "cell_type": "code",
   "execution_count": null,
   "id": "08d09e5a-49d7-43fe-be43-b35e0b0c9da6",
   "metadata": {},
   "outputs": [],
   "source": []
  },
  {
   "cell_type": "markdown",
   "id": "39105f58-eede-4ccf-bf5e-f75fb08a3b39",
   "metadata": {},
   "source": [
    "## Iterating through files"
   ]
  },
  {
   "cell_type": "code",
   "execution_count": 7,
   "id": "48d2aa38-0df3-4666-bf06-47287fb08871",
   "metadata": {},
   "outputs": [
    {
     "name": "stdout",
     "output_type": "stream",
     "text": [
      "THE ITSY BITSY SPIDER CLIMBED UP THE WATERSPOUT.\n",
      "\n",
      "DOWN CAME THE RAIN\n",
      "\n",
      "AND WASHED THE SPIDER OUT.\n",
      "\n",
      "OUT CAME THE SUN\n",
      "\n",
      "AND DRIED UP ALL THE RAIN\n",
      "\n",
      "AND THE ITSY BITSY SPIDER CLIMBED UP THE SPOUT AGAIN.\n"
     ]
    }
   ],
   "source": [
    "with open(\"spider.txt\") as file:\n",
    "    for line in file:\n",
    "        print(line.upper())"
   ]
  },
  {
   "cell_type": "code",
   "execution_count": null,
   "id": "48412822-260d-47fb-825f-57b234c866ed",
   "metadata": {},
   "outputs": [],
   "source": []
  },
  {
   "cell_type": "markdown",
   "id": "f50c5886-12f7-4e37-a3ad-b498b8194496",
   "metadata": {},
   "source": [
    "Here there are spaces between the lines in the output. This is because there is a new line character at the end of each line. "
   ]
  },
  {
   "cell_type": "code",
   "execution_count": 8,
   "id": "fc51fb80-e95b-42bb-8f25-dc7919436130",
   "metadata": {},
   "outputs": [
    {
     "name": "stdout",
     "output_type": "stream",
     "text": [
      "THE ITSY BITSY SPIDER CLIMBED UP THE WATERSPOUT.\n",
      "DOWN CAME THE RAIN\n",
      "AND WASHED THE SPIDER OUT.\n",
      "OUT CAME THE SUN\n",
      "AND DRIED UP ALL THE RAIN\n",
      "AND THE ITSY BITSY SPIDER CLIMBED UP THE SPOUT AGAIN.\n"
     ]
    }
   ],
   "source": [
    "with open(\"spider.txt\") as file:\n",
    "    for line in file:\n",
    "        print(line.strip().upper())"
   ]
  },
  {
   "cell_type": "markdown",
   "id": "28ec3a8d-9f2e-4041-b43c-647897f13453",
   "metadata": {},
   "source": [
    "Here strip is used to remove the newline character, and we get the output without empty lines."
   ]
  },
  {
   "cell_type": "code",
   "execution_count": 9,
   "id": "f74b3e70-77ec-481e-9db2-050cb6a57dc4",
   "metadata": {},
   "outputs": [
    {
     "name": "stdout",
     "output_type": "stream",
     "text": [
      "['Down came the rain\\n', 'Out came the sun\\n', 'The itsy bitsy spider climbed up the waterspout.\\n', 'and dried up all the rain\\n', 'and the itsy bitsy spider climbed up the spout again.', 'and washed the spider out.\\n']\n"
     ]
    }
   ],
   "source": [
    "file = open(\"spider.txt\")\n",
    "lines = file.readlines()\n",
    "file.close()\n",
    "lines.sort()\n",
    "print(lines)"
   ]
  },
  {
   "cell_type": "markdown",
   "id": "9803372f-d43f-401b-9914-3aa8eddbb206",
   "metadata": {},
   "source": [
    "the lines have been sorted alphabetically, so they're no longer in the order that they were in the file. We can see that Python displays a newline character using \"\\n\" symbol when printing a list of strings. "
   ]
  },
  {
   "cell_type": "code",
   "execution_count": null,
   "id": "36cb7826-a81a-4441-8254-135c58600df4",
   "metadata": {},
   "outputs": [],
   "source": []
  },
  {
   "cell_type": "code",
   "execution_count": null,
   "id": "c0a656c0-005f-459d-b8d5-cee2e3f966a8",
   "metadata": {},
   "outputs": [],
   "source": []
  }
 ],
 "metadata": {
  "kernelspec": {
   "display_name": "Python 3 (ipykernel)",
   "language": "python",
   "name": "python3"
  },
  "language_info": {
   "codemirror_mode": {
    "name": "ipython",
    "version": 3
   },
   "file_extension": ".py",
   "mimetype": "text/x-python",
   "name": "python",
   "nbconvert_exporter": "python",
   "pygments_lexer": "ipython3",
   "version": "3.11.1"
  }
 },
 "nbformat": 4,
 "nbformat_minor": 5
}
