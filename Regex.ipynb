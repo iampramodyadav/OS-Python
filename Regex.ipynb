{
 "cells": [
  {
   "cell_type": "markdown",
   "id": "830e62af-a4ce-443c-a43d-35c8f72e5c58",
   "metadata": {},
   "source": [
    "# Regular Expressions"
   ]
  },
  {
   "cell_type": "markdown",
   "id": "d6a7a8b0-b6d7-4dd3-b278-ff6052024347",
   "metadata": {},
   "source": [
    "**Why use regular expressions?**"
   ]
  },
  {
   "cell_type": "code",
   "execution_count": 1,
   "id": "0bf02992-7761-4ff3-8d44-b3335e297a7f",
   "metadata": {},
   "outputs": [],
   "source": [
    "log = \"July 31 07:51:48 mycomputer bad_process[12345]: ERROR Performing package upgrade\""
   ]
  },
  {
   "cell_type": "code",
   "execution_count": 2,
   "id": "63f5b5f1-0bdb-4c62-bdab-6db966181e19",
   "metadata": {},
   "outputs": [
    {
     "name": "stdout",
     "output_type": "stream",
     "text": [
      "12345\n"
     ]
    }
   ],
   "source": [
    "index = log.index(\"[\")\n",
    "print(log[index+1:index+6])"
   ]
  },
  {
   "cell_type": "code",
   "execution_count": null,
   "id": "ab3e1a0c-14f3-468a-a80d-4ffeca338d54",
   "metadata": {},
   "outputs": [],
   "source": []
  },
  {
   "cell_type": "code",
   "execution_count": 5,
   "id": "7fad8fdb-57e6-43e4-b1d6-19645366dc90",
   "metadata": {},
   "outputs": [
    {
     "name": "stdout",
     "output_type": "stream",
     "text": [
      "12345\n"
     ]
    }
   ],
   "source": [
    "import re\n",
    "log = \"July 31 07:51:48 mycomputer bad_process[12345]: ERROR Performing package upgrade\"\n",
    "regex = r\"\\[(\\d+)\\]\"\n",
    "\n",
    "result = re.search(regex, log)\n",
    "print(result[1])"
   ]
  },
  {
   "cell_type": "markdown",
   "id": "a1d69b39-b258-464f-8aa0-5ba9b5281c4d",
   "metadata": {},
   "source": [
    "Here the re module is used which lets us use the search function to find regular expressions inside strings. Then, a regular expression is defined as `r\"\\[(\\d+)\\]\"`"
   ]
  },
  {
   "cell_type": "markdown",
   "id": "bd4adc4f-c2ed-48ca-8f38-004ab184ae1d",
   "metadata": {},
   "source": [
    "## Simple matching in Python"
   ]
  },
  {
   "cell_type": "code",
   "execution_count": 6,
   "id": "6a814a37-c595-46fe-a79a-f53b74caaa01",
   "metadata": {},
   "outputs": [
    {
     "name": "stdout",
     "output_type": "stream",
     "text": [
      "<re.Match object; span=(2, 5), match='aza'>\n"
     ]
    }
   ],
   "source": [
    "import re\n",
    "result = re.search(r\"aza\", \"plaza\")\n",
    "print(result)"
   ]
  },
  {
   "cell_type": "code",
   "execution_count": null,
   "id": "bdbbb095-360c-484e-bbf7-2f766b2e6a32",
   "metadata": {},
   "outputs": [],
   "source": []
  },
  {
   "cell_type": "code",
   "execution_count": 7,
   "id": "1e2952ae-67e6-47e7-99c4-b7e45addbbba",
   "metadata": {},
   "outputs": [
    {
     "name": "stdout",
     "output_type": "stream",
     "text": [
      "<re.Match object; span=(1, 4), match='aza'>\n"
     ]
    }
   ],
   "source": [
    "import re\n",
    "result = re.search(r\"aza\", \"bazaar\")\n",
    "print(result)"
   ]
  },
  {
   "cell_type": "code",
   "execution_count": null,
   "id": "57e2c67e-7854-43e3-a135-e0b4d91a8c36",
   "metadata": {},
   "outputs": [],
   "source": []
  },
  {
   "cell_type": "code",
   "execution_count": 8,
   "id": "d99615e1-62bd-4409-a34a-1182c2048d0c",
   "metadata": {},
   "outputs": [
    {
     "name": "stdout",
     "output_type": "stream",
     "text": [
      "None\n",
      "<re.Match object; span=(0, 1), match='x'>\n"
     ]
    }
   ],
   "source": [
    "import re\n",
    "result = re.search(r\"aza\", \"maze\")\n",
    "print(result)\n",
    "\n",
    "print(re.search(r\"^x\", \"xenon\"))"
   ]
  },
  {
   "cell_type": "code",
   "execution_count": null,
   "id": "43827828-88e6-4971-a7c3-d0357d82ce24",
   "metadata": {},
   "outputs": [],
   "source": []
  },
  {
   "cell_type": "code",
   "execution_count": null,
   "id": "6641204c-f359-4438-abc7-2e62013c396c",
   "metadata": {},
   "outputs": [],
   "source": []
  }
 ],
 "metadata": {
  "kernelspec": {
   "display_name": "Python 3 (ipykernel)",
   "language": "python",
   "name": "python3"
  },
  "language_info": {
   "codemirror_mode": {
    "name": "ipython",
    "version": 3
   },
   "file_extension": ".py",
   "mimetype": "text/x-python",
   "name": "python",
   "nbconvert_exporter": "python",
   "pygments_lexer": "ipython3",
   "version": "3.11.1"
  }
 },
 "nbformat": 4,
 "nbformat_minor": 5
}
